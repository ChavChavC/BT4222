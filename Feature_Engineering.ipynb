{
  "nbformat": 4,
  "nbformat_minor": 0,
  "metadata": {
    "colab": {
      "provenance": [],
      "toc_visible": true,
      "include_colab_link": true
    },
    "kernelspec": {
      "name": "python3",
      "display_name": "Python 3"
    },
    "language_info": {
      "name": "python"
    }
  },
  "cells": [
    {
      "cell_type": "markdown",
      "metadata": {
        "id": "view-in-github",
        "colab_type": "text"
      },
      "source": [
        "<a href=\"https://colab.research.google.com/github/ChavChavC/BT4222/blob/main/Feature_Engineering.ipynb\" target=\"_parent\"><img src=\"https://colab.research.google.com/assets/colab-badge.svg\" alt=\"Open In Colab\"/></a>"
      ]
    },
    {
      "cell_type": "markdown",
      "source": [
        "1. Named Entity Recognition (NER)\n",
        "2. POS\n",
        "3. TF-IDF?\n",
        "4. Stemming or Lemmatization (Done)\n",
        "5. Word Embedding\n",
        "6. Tokenization (Non Transformer Models)"
      ],
      "metadata": {
        "id": "wFw6T2VC_FTH"
      }
    },
    {
      "cell_type": "code",
      "source": [
        "# Import all the necessary libraries\n",
        "from datasets import load_dataset\n",
        "\n",
        "# NLTK modules\n",
        "from nltk.stem import WordNetLemmatizer\n",
        "from nltk.stem import PorterStemmer\n",
        "from nltk.tokenize import word_tokenize\n"
      ],
      "metadata": {
        "id": "lIbvayoD_T0a"
      },
      "execution_count": 10,
      "outputs": []
    },
    {
      "cell_type": "markdown",
      "source": [
        "##Load Datasets"
      ],
      "metadata": {
        "id": "rrP04RMf_Zjm"
      }
    },
    {
      "cell_type": "code",
      "execution_count": 11,
      "metadata": {
        "id": "K4NRlWdlC83w"
      },
      "outputs": [],
      "source": [
        "# Huggingface Datasets\n",
        "dataset1 = load_dataset(\"Jean-Baptiste/financial_news_sentiment\")\n",
        "dataset2 = load_dataset(\"zeroshot/twitter-financial-news-sentiment\")\n",
        "dataset3 = load_dataset(\"lukecarlate/general_financial_news\")\n",
        "\n",
        "# Normal Datasets"
      ]
    },
    {
      "cell_type": "markdown",
      "source": [
        "## Feature Engineering Functions"
      ],
      "metadata": {
        "id": "w3NNJJCcAeBr"
      }
    },
    {
      "cell_type": "markdown",
      "source": [
        "### Lemmatization\n"
      ],
      "metadata": {
        "id": "vew_ZiecAhma"
      }
    },
    {
      "cell_type": "code",
      "source": [
        "lemmatizer = WordNetLemmatizer()\n",
        "\n",
        "def lemmatize_sentence(text):\n",
        "    # Tokenize the sentence into words\n",
        "    words = word_tokenize(sentence)\n",
        "    lemmatized_words = [lemmatizer.lemmatize(word) for word in words]\n",
        "    lemmatized_sentence = ' '.join(lemmatized_words)\n",
        "    return lemmatized_sentence"
      ],
      "metadata": {
        "id": "AA6P_6prAg84"
      },
      "execution_count": 12,
      "outputs": []
    },
    {
      "cell_type": "markdown",
      "source": [
        "##Stemming"
      ],
      "metadata": {
        "id": "a9paVKFBOpFt"
      }
    },
    {
      "cell_type": "code",
      "source": [
        "stemmer = PorterStemmer()\n",
        "\n",
        "def stem_text(text):\n",
        "    words = word_tokenize(text)\n",
        "    stemmed_words = [stemmer.stem(word) for word in words]\n",
        "    stemmed_text = ' '.join(stemmed_words)\n",
        "    return stemmed_text"
      ],
      "metadata": {
        "id": "IuaUY3_BOrFo"
      },
      "execution_count": null,
      "outputs": []
    },
    {
      "cell_type": "markdown",
      "source": [
        "#Feature Engineering on Dataset\n"
      ],
      "metadata": {
        "id": "GMGO6oW6DEOz"
      }
    },
    {
      "cell_type": "markdown",
      "source": [
        "##Dataset1 - Lemmatize"
      ],
      "metadata": {
        "id": "7wDui5HdPM-n"
      }
    },
    {
      "cell_type": "code",
      "source": [
        "lemmatized_summaries = [lemmatize_text(summary) for summary in dataset1['summary_detail']]\n",
        "dataset1['summary_detail'] = lemmatized_summaries"
      ],
      "metadata": {
        "id": "Xyob-oBqPJSL"
      },
      "execution_count": null,
      "outputs": []
    }
  ]
}