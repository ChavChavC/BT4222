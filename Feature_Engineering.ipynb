{
  "nbformat": 4,
  "nbformat_minor": 0,
  "metadata": {
    "colab": {
      "provenance": [],
      "toc_visible": true,
      "include_colab_link": true
    },
    "kernelspec": {
      "name": "python3",
      "display_name": "Python 3"
    },
    "language_info": {
      "name": "python"
    }
  },
  "cells": [
    {
      "cell_type": "markdown",
      "metadata": {
        "id": "view-in-github",
        "colab_type": "text"
      },
      "source": [
        "<a href=\"https://colab.research.google.com/github/ChavChavC/BT4222/blob/main/Feature_Engineering.ipynb\" target=\"_parent\"><img src=\"https://colab.research.google.com/assets/colab-badge.svg\" alt=\"Open In Colab\"/></a>"
      ]
    },
    {
      "cell_type": "markdown",
      "source": [
        "1. Named Entity Recognition (NER)\n",
        "2. POS\n",
        "3. TF-IDF?\n",
        "4. Stemming (Bad) or Lemmatization (Better)\n",
        "5. Word Embedding\n",
        "6. Tokenization (Non Transformer Models)"
      ],
      "metadata": {
        "id": "wFw6T2VC_FTH"
      }
    },
    {
      "cell_type": "code",
      "source": [
        "# Import all the necessary libraries\n",
        "\n",
        "from datasets import load_dataset"
      ],
      "metadata": {
        "id": "lIbvayoD_T0a"
      },
      "execution_count": 1,
      "outputs": []
    },
    {
      "cell_type": "markdown",
      "source": [
        "##Load Datasets"
      ],
      "metadata": {
        "id": "rrP04RMf_Zjm"
      }
    },
    {
      "cell_type": "code",
      "execution_count": null,
      "metadata": {
        "id": "K4NRlWdlC83w"
      },
      "outputs": [],
      "source": [
        "# Huggingface Datasets\n",
        "dataset1 = load_dataset(\"Jean-Baptiste/financial_news_sentiment\")\n",
        "dataset2 = load_dataset(\"zeroshot/twitter-financial-news-sentiment\")\n",
        "dataset3 = load_dataset(\"lukecarlate/general_financial_news\")\n",
        "\n",
        "# Normal Datasets"
      ]
    },
    {
      "cell_type": "markdown",
      "source": [
        "test"
      ],
      "metadata": {
        "id": "Mvrf-oNZIE_J"
      }
    },
    {
      "cell_type": "markdown",
      "source": [
        "This is an example text."
      ],
      "metadata": {
        "id": "GMGO6oW6DEOz"
      }
    }
  ]
}