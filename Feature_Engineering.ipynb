{
  "nbformat": 4,
  "nbformat_minor": 0,
  "metadata": {
    "colab": {
      "provenance": [],
      "toc_visible": true
    },
    "kernelspec": {
      "name": "python3",
      "display_name": "Python 3"
    },
    "language_info": {
      "name": "python"
    },
    "widgets": {
      "application/vnd.jupyter.widget-state+json": {
        "2280a3bf091147c3ba4134751b509983": {
          "model_module": "@jupyter-widgets/controls",
          "model_name": "HBoxModel",
          "model_module_version": "1.5.0",
          "state": {
            "_dom_classes": [],
            "_model_module": "@jupyter-widgets/controls",
            "_model_module_version": "1.5.0",
            "_model_name": "HBoxModel",
            "_view_count": null,
            "_view_module": "@jupyter-widgets/controls",
            "_view_module_version": "1.5.0",
            "_view_name": "HBoxView",
            "box_style": "",
            "children": [
              "IPY_MODEL_958785490bd04563a1b6ff48394e32aa",
              "IPY_MODEL_034256d759da4836928007c55fa5d1ca",
              "IPY_MODEL_3b7356fa375f44fdb26b7e2fff9ce38c"
            ],
            "layout": "IPY_MODEL_bd57ea18925c465eb432da3fce12dd43"
          }
        },
        "958785490bd04563a1b6ff48394e32aa": {
          "model_module": "@jupyter-widgets/controls",
          "model_name": "HTMLModel",
          "model_module_version": "1.5.0",
          "state": {
            "_dom_classes": [],
            "_model_module": "@jupyter-widgets/controls",
            "_model_module_version": "1.5.0",
            "_model_name": "HTMLModel",
            "_view_count": null,
            "_view_module": "@jupyter-widgets/controls",
            "_view_module_version": "1.5.0",
            "_view_name": "HTMLView",
            "description": "",
            "description_tooltip": null,
            "layout": "IPY_MODEL_44db1922359e4a1a836b0b0e80b8236f",
            "placeholder": "​",
            "style": "IPY_MODEL_07247175ca6543808943d86fa6da87eb",
            "value": "Map: 100%"
          }
        },
        "034256d759da4836928007c55fa5d1ca": {
          "model_module": "@jupyter-widgets/controls",
          "model_name": "FloatProgressModel",
          "model_module_version": "1.5.0",
          "state": {
            "_dom_classes": [],
            "_model_module": "@jupyter-widgets/controls",
            "_model_module_version": "1.5.0",
            "_model_name": "FloatProgressModel",
            "_view_count": null,
            "_view_module": "@jupyter-widgets/controls",
            "_view_module_version": "1.5.0",
            "_view_name": "ProgressView",
            "bar_style": "success",
            "description": "",
            "description_tooltip": null,
            "layout": "IPY_MODEL_37c21e0305274d4db92d1f36fe0c312e",
            "max": 1512,
            "min": 0,
            "orientation": "horizontal",
            "style": "IPY_MODEL_474aaba6014e4121a2e9e253e869c3dc",
            "value": 1512
          }
        },
        "3b7356fa375f44fdb26b7e2fff9ce38c": {
          "model_module": "@jupyter-widgets/controls",
          "model_name": "HTMLModel",
          "model_module_version": "1.5.0",
          "state": {
            "_dom_classes": [],
            "_model_module": "@jupyter-widgets/controls",
            "_model_module_version": "1.5.0",
            "_model_name": "HTMLModel",
            "_view_count": null,
            "_view_module": "@jupyter-widgets/controls",
            "_view_module_version": "1.5.0",
            "_view_name": "HTMLView",
            "description": "",
            "description_tooltip": null,
            "layout": "IPY_MODEL_c7ade4618d1342d0b4236c184d3ca7e3",
            "placeholder": "​",
            "style": "IPY_MODEL_13bbc4b1c4de436abb74362b717a8b7c",
            "value": " 1512/1512 [00:03&lt;00:00, 488.03 examples/s]"
          }
        },
        "bd57ea18925c465eb432da3fce12dd43": {
          "model_module": "@jupyter-widgets/base",
          "model_name": "LayoutModel",
          "model_module_version": "1.2.0",
          "state": {
            "_model_module": "@jupyter-widgets/base",
            "_model_module_version": "1.2.0",
            "_model_name": "LayoutModel",
            "_view_count": null,
            "_view_module": "@jupyter-widgets/base",
            "_view_module_version": "1.2.0",
            "_view_name": "LayoutView",
            "align_content": null,
            "align_items": null,
            "align_self": null,
            "border": null,
            "bottom": null,
            "display": null,
            "flex": null,
            "flex_flow": null,
            "grid_area": null,
            "grid_auto_columns": null,
            "grid_auto_flow": null,
            "grid_auto_rows": null,
            "grid_column": null,
            "grid_gap": null,
            "grid_row": null,
            "grid_template_areas": null,
            "grid_template_columns": null,
            "grid_template_rows": null,
            "height": null,
            "justify_content": null,
            "justify_items": null,
            "left": null,
            "margin": null,
            "max_height": null,
            "max_width": null,
            "min_height": null,
            "min_width": null,
            "object_fit": null,
            "object_position": null,
            "order": null,
            "overflow": null,
            "overflow_x": null,
            "overflow_y": null,
            "padding": null,
            "right": null,
            "top": null,
            "visibility": null,
            "width": null
          }
        },
        "44db1922359e4a1a836b0b0e80b8236f": {
          "model_module": "@jupyter-widgets/base",
          "model_name": "LayoutModel",
          "model_module_version": "1.2.0",
          "state": {
            "_model_module": "@jupyter-widgets/base",
            "_model_module_version": "1.2.0",
            "_model_name": "LayoutModel",
            "_view_count": null,
            "_view_module": "@jupyter-widgets/base",
            "_view_module_version": "1.2.0",
            "_view_name": "LayoutView",
            "align_content": null,
            "align_items": null,
            "align_self": null,
            "border": null,
            "bottom": null,
            "display": null,
            "flex": null,
            "flex_flow": null,
            "grid_area": null,
            "grid_auto_columns": null,
            "grid_auto_flow": null,
            "grid_auto_rows": null,
            "grid_column": null,
            "grid_gap": null,
            "grid_row": null,
            "grid_template_areas": null,
            "grid_template_columns": null,
            "grid_template_rows": null,
            "height": null,
            "justify_content": null,
            "justify_items": null,
            "left": null,
            "margin": null,
            "max_height": null,
            "max_width": null,
            "min_height": null,
            "min_width": null,
            "object_fit": null,
            "object_position": null,
            "order": null,
            "overflow": null,
            "overflow_x": null,
            "overflow_y": null,
            "padding": null,
            "right": null,
            "top": null,
            "visibility": null,
            "width": null
          }
        },
        "07247175ca6543808943d86fa6da87eb": {
          "model_module": "@jupyter-widgets/controls",
          "model_name": "DescriptionStyleModel",
          "model_module_version": "1.5.0",
          "state": {
            "_model_module": "@jupyter-widgets/controls",
            "_model_module_version": "1.5.0",
            "_model_name": "DescriptionStyleModel",
            "_view_count": null,
            "_view_module": "@jupyter-widgets/base",
            "_view_module_version": "1.2.0",
            "_view_name": "StyleView",
            "description_width": ""
          }
        },
        "37c21e0305274d4db92d1f36fe0c312e": {
          "model_module": "@jupyter-widgets/base",
          "model_name": "LayoutModel",
          "model_module_version": "1.2.0",
          "state": {
            "_model_module": "@jupyter-widgets/base",
            "_model_module_version": "1.2.0",
            "_model_name": "LayoutModel",
            "_view_count": null,
            "_view_module": "@jupyter-widgets/base",
            "_view_module_version": "1.2.0",
            "_view_name": "LayoutView",
            "align_content": null,
            "align_items": null,
            "align_self": null,
            "border": null,
            "bottom": null,
            "display": null,
            "flex": null,
            "flex_flow": null,
            "grid_area": null,
            "grid_auto_columns": null,
            "grid_auto_flow": null,
            "grid_auto_rows": null,
            "grid_column": null,
            "grid_gap": null,
            "grid_row": null,
            "grid_template_areas": null,
            "grid_template_columns": null,
            "grid_template_rows": null,
            "height": null,
            "justify_content": null,
            "justify_items": null,
            "left": null,
            "margin": null,
            "max_height": null,
            "max_width": null,
            "min_height": null,
            "min_width": null,
            "object_fit": null,
            "object_position": null,
            "order": null,
            "overflow": null,
            "overflow_x": null,
            "overflow_y": null,
            "padding": null,
            "right": null,
            "top": null,
            "visibility": null,
            "width": null
          }
        },
        "474aaba6014e4121a2e9e253e869c3dc": {
          "model_module": "@jupyter-widgets/controls",
          "model_name": "ProgressStyleModel",
          "model_module_version": "1.5.0",
          "state": {
            "_model_module": "@jupyter-widgets/controls",
            "_model_module_version": "1.5.0",
            "_model_name": "ProgressStyleModel",
            "_view_count": null,
            "_view_module": "@jupyter-widgets/base",
            "_view_module_version": "1.2.0",
            "_view_name": "StyleView",
            "bar_color": null,
            "description_width": ""
          }
        },
        "c7ade4618d1342d0b4236c184d3ca7e3": {
          "model_module": "@jupyter-widgets/base",
          "model_name": "LayoutModel",
          "model_module_version": "1.2.0",
          "state": {
            "_model_module": "@jupyter-widgets/base",
            "_model_module_version": "1.2.0",
            "_model_name": "LayoutModel",
            "_view_count": null,
            "_view_module": "@jupyter-widgets/base",
            "_view_module_version": "1.2.0",
            "_view_name": "LayoutView",
            "align_content": null,
            "align_items": null,
            "align_self": null,
            "border": null,
            "bottom": null,
            "display": null,
            "flex": null,
            "flex_flow": null,
            "grid_area": null,
            "grid_auto_columns": null,
            "grid_auto_flow": null,
            "grid_auto_rows": null,
            "grid_column": null,
            "grid_gap": null,
            "grid_row": null,
            "grid_template_areas": null,
            "grid_template_columns": null,
            "grid_template_rows": null,
            "height": null,
            "justify_content": null,
            "justify_items": null,
            "left": null,
            "margin": null,
            "max_height": null,
            "max_width": null,
            "min_height": null,
            "min_width": null,
            "object_fit": null,
            "object_position": null,
            "order": null,
            "overflow": null,
            "overflow_x": null,
            "overflow_y": null,
            "padding": null,
            "right": null,
            "top": null,
            "visibility": null,
            "width": null
          }
        },
        "13bbc4b1c4de436abb74362b717a8b7c": {
          "model_module": "@jupyter-widgets/controls",
          "model_name": "DescriptionStyleModel",
          "model_module_version": "1.5.0",
          "state": {
            "_model_module": "@jupyter-widgets/controls",
            "_model_module_version": "1.5.0",
            "_model_name": "DescriptionStyleModel",
            "_view_count": null,
            "_view_module": "@jupyter-widgets/base",
            "_view_module_version": "1.2.0",
            "_view_name": "StyleView",
            "description_width": ""
          }
        }
      }
    }
  },
  "cells": [
    {
      "cell_type": "markdown",
      "source": [
        "1. Named Entity Recognition (NER)\n",
        "2. POS\n",
        "3. TF-IDF?\n",
        "4. Stemming or Lemmatization (Done)\n",
        "5. Word Embedding\n",
        "6. Tokenization (Non Transformer Models)"
      ],
      "metadata": {
        "id": "wFw6T2VC_FTH"
      }
    },
    {
      "cell_type": "code",
      "source": [
        "# Import all the necessary libraries\n",
        "from datasets import load_dataset\n",
        "\n",
        "# NLTK modules\n",
        "import nltk\n",
        "from nltk.stem import WordNetLemmatizer\n",
        "from nltk.stem import PorterStemmer\n",
        "from nltk.tokenize import word_tokenize\n",
        "nltk.download('punkt')\n",
        "nltk.download('wordnet')\n",
        "\n"
      ],
      "metadata": {
        "id": "lIbvayoD_T0a",
        "colab": {
          "base_uri": "https://localhost:8080/"
        },
        "outputId": "09e4e97e-9ed5-402f-82a0-070911c163be"
      },
      "execution_count": null,
      "outputs": [
        {
          "output_type": "stream",
          "name": "stderr",
          "text": [
            "[nltk_data] Downloading package punkt to /root/nltk_data...\n",
            "[nltk_data]   Package punkt is already up-to-date!\n",
            "[nltk_data] Downloading package wordnet to /root/nltk_data...\n"
          ]
        },
        {
          "output_type": "execute_result",
          "data": {
            "text/plain": [
              "True"
            ]
          },
          "metadata": {},
          "execution_count": 29
        }
      ]
    },
    {
      "cell_type": "markdown",
      "source": [
        "##Load Datasets"
      ],
      "metadata": {
        "id": "rrP04RMf_Zjm"
      }
    },
    {
      "cell_type": "code",
      "execution_count": null,
      "metadata": {
        "id": "K4NRlWdlC83w"
      },
      "outputs": [],
      "source": [
        "# Huggingface Datasets\n",
        "dataset1 = load_dataset(\"Jean-Baptiste/financial_news_sentiment\")\n",
        "dataset2 = load_dataset(\"zeroshot/twitter-financial-news-sentiment\")\n",
        "dataset3 = load_dataset(\"lukecarlate/general_financial_news\")\n",
        "\n",
        "# Normal Datasets"
      ]
    },
    {
      "cell_type": "markdown",
      "source": [
        "## Feature Engineering Functions"
      ],
      "metadata": {
        "id": "w3NNJJCcAeBr"
      }
    },
    {
      "cell_type": "markdown",
      "source": [
        "### Lemmatization\n"
      ],
      "metadata": {
        "id": "vew_ZiecAhma"
      }
    },
    {
      "cell_type": "code",
      "source": [
        "lemmatizer = WordNetLemmatizer()\n",
        "\n",
        "def lemmatize_sentence(text):\n",
        "    # Tokenize the sentence into words\n",
        "    words = word_tokenize(text)\n",
        "    lemmatized_words = [lemmatizer.lemmatize(word) for word in words]\n",
        "    lemmatized_sentence = ' '.join(lemmatized_words)\n",
        "    return lemmatized_sentence"
      ],
      "metadata": {
        "id": "AA6P_6prAg84"
      },
      "execution_count": null,
      "outputs": []
    },
    {
      "cell_type": "markdown",
      "source": [
        "##Stemming"
      ],
      "metadata": {
        "id": "a9paVKFBOpFt"
      }
    },
    {
      "cell_type": "code",
      "source": [
        "stemmer = PorterStemmer()\n",
        "\n",
        "def stem_text(text):\n",
        "    words = word_tokenize(text)\n",
        "    stemmed_words = [stemmer.stem(word) for word in words]\n",
        "    stemmed_text = ' '.join(stemmed_words)\n",
        "    return stemmed_text"
      ],
      "metadata": {
        "id": "IuaUY3_BOrFo"
      },
      "execution_count": null,
      "outputs": []
    },
    {
      "cell_type": "markdown",
      "source": [
        "#Feature Engineering on Dataset\n"
      ],
      "metadata": {
        "id": "GMGO6oW6DEOz"
      }
    },
    {
      "cell_type": "code",
      "source": [
        "dataset1"
      ],
      "metadata": {
        "colab": {
          "base_uri": "https://localhost:8080/"
        },
        "id": "3OHoeTUOPd6J",
        "outputId": "b8b513ec-46f1-4d41-a6c5-6b81251265c7"
      },
      "execution_count": null,
      "outputs": [
        {
          "output_type": "execute_result",
          "data": {
            "text/plain": [
              "DatasetDict({\n",
              "    train: Dataset({\n",
              "        features: ['summary_detail', 'title', 'summary_detail_with_title', 'topic', 'labels', '__index_level_0__'],\n",
              "        num_rows: 1512\n",
              "    })\n",
              "    test: Dataset({\n",
              "        features: ['summary_detail', 'title', 'summary_detail_with_title', 'topic', 'labels', '__index_level_0__'],\n",
              "        num_rows: 267\n",
              "    })\n",
              "})"
            ]
          },
          "metadata": {},
          "execution_count": 19
        }
      ]
    },
    {
      "cell_type": "markdown",
      "source": [
        "##Dataset1 - Lemmatize"
      ],
      "metadata": {
        "id": "7wDui5HdPM-n"
      }
    },
    {
      "cell_type": "code",
      "source": [
        "def lemmatize_dataset(dataset):\n",
        "  sentence = dataset[\"summary_detail\"]\n",
        "  dataset[\"summary_detail\"] = lemmatize_sentence(sentence)\n",
        "  return dataset\n",
        "\n",
        "lemmatized_dataset1 = dataset1['train'].map(lemmatize_dataset)"
      ],
      "metadata": {
        "id": "Xyob-oBqPJSL"
      },
      "execution_count": null,
      "outputs": []
    },
    {
      "cell_type": "markdown",
      "source": [
        "##Dataset1 - Stemming"
      ],
      "metadata": {
        "id": "xn1OSxeAR7da"
      }
    },
    {
      "cell_type": "code",
      "source": [
        "def stem_dataset(dataset):\n",
        "    sentence = dataset[\"summary_detail\"]\n",
        "    dataset[\"summary_detail\"] = stem_text(sentence)\n",
        "    return dataset\n",
        "\n",
        "stemmed_dataset1 = dataset1['train'].map(stem_dataset)"
      ],
      "metadata": {
        "colab": {
          "base_uri": "https://localhost:8080/",
          "height": 49,
          "referenced_widgets": [
            "2280a3bf091147c3ba4134751b509983",
            "958785490bd04563a1b6ff48394e32aa",
            "034256d759da4836928007c55fa5d1ca",
            "3b7356fa375f44fdb26b7e2fff9ce38c",
            "bd57ea18925c465eb432da3fce12dd43",
            "44db1922359e4a1a836b0b0e80b8236f",
            "07247175ca6543808943d86fa6da87eb",
            "37c21e0305274d4db92d1f36fe0c312e",
            "474aaba6014e4121a2e9e253e869c3dc",
            "c7ade4618d1342d0b4236c184d3ca7e3",
            "13bbc4b1c4de436abb74362b717a8b7c"
          ]
        },
        "id": "jkOAh9f7R8ma",
        "outputId": "dfdb449a-fe64-4a9a-b138-c0461d4e5d04"
      },
      "execution_count": null,
      "outputs": [
        {
          "output_type": "display_data",
          "data": {
            "text/plain": [
              "Map:   0%|          | 0/1512 [00:00<?, ? examples/s]"
            ],
            "application/vnd.jupyter.widget-view+json": {
              "version_major": 2,
              "version_minor": 0,
              "model_id": "2280a3bf091147c3ba4134751b509983"
            }
          },
          "metadata": {}
        }
      ]
    },
    {
      "cell_type": "markdown",
      "source": [
        "##Dataset1 - TF-IDF\n"
      ],
      "metadata": {
        "id": "zKnHUblzTY6_"
      }
    },
    {
      "cell_type": "code",
      "source": [
        "##Dataset1 -\n",
        "\n",
        "from sklearn.feature_extraction.text import TfidfVectorizer\n",
        "\n",
        "# Assuming you have a list of sentences as your data\n",
        "sentences = [\"The cats are playing in the garden\",\n",
        "             \"The sun is shining brightly over the garden\",\n",
        "             # ... more sentences ...\n",
        "            ]\n",
        "\n",
        "# Initialize the TfidfVectorizer\n",
        "tfidf_vectorizer = TfidfVectorizer()\n",
        "\n",
        "# Fit and transform the entire dataset to TF-IDF vectors\n",
        "tfidf_matrix = tfidf_vectorizer.fit_transform(sentences)\n"
      ],
      "metadata": {
        "id": "9kfXAx6QTFtI"
      },
      "execution_count": null,
      "outputs": []
    }
  ]
}