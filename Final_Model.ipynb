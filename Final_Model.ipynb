{
  "nbformat": 4,
  "nbformat_minor": 0,
  "metadata": {
    "colab": {
      "provenance": [],
      "collapsed_sections": [
        "plxnkri-n0g4"
      ],
      "authorship_tag": "ABX9TyPy82JwVUHn2FfBdA3lXozG",
      "include_colab_link": true
    },
    "kernelspec": {
      "name": "python3",
      "display_name": "Python 3"
    },
    "language_info": {
      "name": "python"
    }
  },
  "cells": [
    {
      "cell_type": "markdown",
      "metadata": {
        "id": "view-in-github",
        "colab_type": "text"
      },
      "source": [
        "<a href=\"https://colab.research.google.com/github/ChavChavC/BT4222/blob/main/Final_Model.ipynb\" target=\"_parent\"><img src=\"https://colab.research.google.com/assets/colab-badge.svg\" alt=\"Open In Colab\"/></a>"
      ]
    },
    {
      "cell_type": "code",
      "source": [
        "pip install unidecode optuna transformers"
      ],
      "metadata": {
        "id": "4VvRnyZoJ5C4"
      },
      "execution_count": null,
      "outputs": []
    },
    {
      "cell_type": "code",
      "execution_count": 2,
      "metadata": {
        "colab": {
          "base_uri": "https://localhost:8080/",
          "height": 180
        },
        "id": "DRnmk38QBLw4",
        "outputId": "781ea316-771c-4fe6-85b9-e5a9ec828380"
      },
      "outputs": [
        {
          "output_type": "display_data",
          "data": {
            "text/plain": [
              "<IPython.core.display.HTML object>"
            ],
            "text/html": [
              "\n",
              "     <input type=\"file\" id=\"files-db62c3a6-d035-46c5-869f-2d870b9580c2\" name=\"files[]\" multiple disabled\n",
              "        style=\"border:none\" />\n",
              "     <output id=\"result-db62c3a6-d035-46c5-869f-2d870b9580c2\">\n",
              "      Upload widget is only available when the cell has been executed in the\n",
              "      current browser session. Please rerun this cell to enable.\n",
              "      </output>\n",
              "      <script>// Copyright 2017 Google LLC\n",
              "//\n",
              "// Licensed under the Apache License, Version 2.0 (the \"License\");\n",
              "// you may not use this file except in compliance with the License.\n",
              "// You may obtain a copy of the License at\n",
              "//\n",
              "//      http://www.apache.org/licenses/LICENSE-2.0\n",
              "//\n",
              "// Unless required by applicable law or agreed to in writing, software\n",
              "// distributed under the License is distributed on an \"AS IS\" BASIS,\n",
              "// WITHOUT WARRANTIES OR CONDITIONS OF ANY KIND, either express or implied.\n",
              "// See the License for the specific language governing permissions and\n",
              "// limitations under the License.\n",
              "\n",
              "/**\n",
              " * @fileoverview Helpers for google.colab Python module.\n",
              " */\n",
              "(function(scope) {\n",
              "function span(text, styleAttributes = {}) {\n",
              "  const element = document.createElement('span');\n",
              "  element.textContent = text;\n",
              "  for (const key of Object.keys(styleAttributes)) {\n",
              "    element.style[key] = styleAttributes[key];\n",
              "  }\n",
              "  return element;\n",
              "}\n",
              "\n",
              "// Max number of bytes which will be uploaded at a time.\n",
              "const MAX_PAYLOAD_SIZE = 100 * 1024;\n",
              "\n",
              "function _uploadFiles(inputId, outputId) {\n",
              "  const steps = uploadFilesStep(inputId, outputId);\n",
              "  const outputElement = document.getElementById(outputId);\n",
              "  // Cache steps on the outputElement to make it available for the next call\n",
              "  // to uploadFilesContinue from Python.\n",
              "  outputElement.steps = steps;\n",
              "\n",
              "  return _uploadFilesContinue(outputId);\n",
              "}\n",
              "\n",
              "// This is roughly an async generator (not supported in the browser yet),\n",
              "// where there are multiple asynchronous steps and the Python side is going\n",
              "// to poll for completion of each step.\n",
              "// This uses a Promise to block the python side on completion of each step,\n",
              "// then passes the result of the previous step as the input to the next step.\n",
              "function _uploadFilesContinue(outputId) {\n",
              "  const outputElement = document.getElementById(outputId);\n",
              "  const steps = outputElement.steps;\n",
              "\n",
              "  const next = steps.next(outputElement.lastPromiseValue);\n",
              "  return Promise.resolve(next.value.promise).then((value) => {\n",
              "    // Cache the last promise value to make it available to the next\n",
              "    // step of the generator.\n",
              "    outputElement.lastPromiseValue = value;\n",
              "    return next.value.response;\n",
              "  });\n",
              "}\n",
              "\n",
              "/**\n",
              " * Generator function which is called between each async step of the upload\n",
              " * process.\n",
              " * @param {string} inputId Element ID of the input file picker element.\n",
              " * @param {string} outputId Element ID of the output display.\n",
              " * @return {!Iterable<!Object>} Iterable of next steps.\n",
              " */\n",
              "function* uploadFilesStep(inputId, outputId) {\n",
              "  const inputElement = document.getElementById(inputId);\n",
              "  inputElement.disabled = false;\n",
              "\n",
              "  const outputElement = document.getElementById(outputId);\n",
              "  outputElement.innerHTML = '';\n",
              "\n",
              "  const pickedPromise = new Promise((resolve) => {\n",
              "    inputElement.addEventListener('change', (e) => {\n",
              "      resolve(e.target.files);\n",
              "    });\n",
              "  });\n",
              "\n",
              "  const cancel = document.createElement('button');\n",
              "  inputElement.parentElement.appendChild(cancel);\n",
              "  cancel.textContent = 'Cancel upload';\n",
              "  const cancelPromise = new Promise((resolve) => {\n",
              "    cancel.onclick = () => {\n",
              "      resolve(null);\n",
              "    };\n",
              "  });\n",
              "\n",
              "  // Wait for the user to pick the files.\n",
              "  const files = yield {\n",
              "    promise: Promise.race([pickedPromise, cancelPromise]),\n",
              "    response: {\n",
              "      action: 'starting',\n",
              "    }\n",
              "  };\n",
              "\n",
              "  cancel.remove();\n",
              "\n",
              "  // Disable the input element since further picks are not allowed.\n",
              "  inputElement.disabled = true;\n",
              "\n",
              "  if (!files) {\n",
              "    return {\n",
              "      response: {\n",
              "        action: 'complete',\n",
              "      }\n",
              "    };\n",
              "  }\n",
              "\n",
              "  for (const file of files) {\n",
              "    const li = document.createElement('li');\n",
              "    li.append(span(file.name, {fontWeight: 'bold'}));\n",
              "    li.append(span(\n",
              "        `(${file.type || 'n/a'}) - ${file.size} bytes, ` +\n",
              "        `last modified: ${\n",
              "            file.lastModifiedDate ? file.lastModifiedDate.toLocaleDateString() :\n",
              "                                    'n/a'} - `));\n",
              "    const percent = span('0% done');\n",
              "    li.appendChild(percent);\n",
              "\n",
              "    outputElement.appendChild(li);\n",
              "\n",
              "    const fileDataPromise = new Promise((resolve) => {\n",
              "      const reader = new FileReader();\n",
              "      reader.onload = (e) => {\n",
              "        resolve(e.target.result);\n",
              "      };\n",
              "      reader.readAsArrayBuffer(file);\n",
              "    });\n",
              "    // Wait for the data to be ready.\n",
              "    let fileData = yield {\n",
              "      promise: fileDataPromise,\n",
              "      response: {\n",
              "        action: 'continue',\n",
              "      }\n",
              "    };\n",
              "\n",
              "    // Use a chunked sending to avoid message size limits. See b/62115660.\n",
              "    let position = 0;\n",
              "    do {\n",
              "      const length = Math.min(fileData.byteLength - position, MAX_PAYLOAD_SIZE);\n",
              "      const chunk = new Uint8Array(fileData, position, length);\n",
              "      position += length;\n",
              "\n",
              "      const base64 = btoa(String.fromCharCode.apply(null, chunk));\n",
              "      yield {\n",
              "        response: {\n",
              "          action: 'append',\n",
              "          file: file.name,\n",
              "          data: base64,\n",
              "        },\n",
              "      };\n",
              "\n",
              "      let percentDone = fileData.byteLength === 0 ?\n",
              "          100 :\n",
              "          Math.round((position / fileData.byteLength) * 100);\n",
              "      percent.textContent = `${percentDone}% done`;\n",
              "\n",
              "    } while (position < fileData.byteLength);\n",
              "  }\n",
              "\n",
              "  // All done.\n",
              "  yield {\n",
              "    response: {\n",
              "      action: 'complete',\n",
              "    }\n",
              "  };\n",
              "}\n",
              "\n",
              "scope.google = scope.google || {};\n",
              "scope.google.colab = scope.google.colab || {};\n",
              "scope.google.colab._files = {\n",
              "  _uploadFiles,\n",
              "  _uploadFilesContinue,\n",
              "};\n",
              "})(self);\n",
              "</script> "
            ]
          },
          "metadata": {}
        },
        {
          "output_type": "stream",
          "name": "stdout",
          "text": [
            "Saving sent_train.csv to sent_train.csv\n",
            "Saving sent_valid.csv to sent_valid.csv\n",
            "Saving test-00000-of-00001-f8c02546a74f96bb.parquet to test-00000-of-00001-f8c02546a74f96bb.parquet\n",
            "Saving train-00000-of-00001-f6c9e78174b9882e.parquet to train-00000-of-00001-f6c9e78174b9882e.parquet\n"
          ]
        }
      ],
      "source": [
        "from google.colab import files\n",
        "\n",
        "# upload the data files needed\n",
        "uploaded = files.upload()"
      ]
    },
    {
      "cell_type": "markdown",
      "source": [
        "# Data Cleaning"
      ],
      "metadata": {
        "id": "p8dRaZ3EC3xl"
      }
    },
    {
      "cell_type": "markdown",
      "source": [
        "## Read in all data and concatenate them"
      ],
      "metadata": {
        "id": "Eo5wQmlRD8U1"
      }
    },
    {
      "cell_type": "markdown",
      "source": [
        "We have chosen to use data from 2 data sources, so as to train a model that is robust to different variations of financial text. Hence, we will need to adjust the labelling to ensure consistency, and join these data together so they can be shuffled and used for training, validation and testing."
      ],
      "metadata": {
        "id": "XliZAex4TVgS"
      }
    },
    {
      "cell_type": "code",
      "source": [
        "import pandas as pd\n",
        "import re\n",
        "\n",
        "# read in first dataset\n",
        "# labelling: 0: Negative, 1: Neutral , 2: Positive\n",
        "test_1 = pd.read_parquet('test-00000-of-00001-f8c02546a74f96bb.parquet')\n",
        "train_1 = pd.read_parquet('train-00000-of-00001-f6c9e78174b9882e.parquet')\n",
        "\n",
        "# concatenate train and test subsets\n",
        "df = pd.concat([test_1, train_1], ignore_index=True)\n",
        "\n",
        "# read in second dataset\n",
        "# labelling: 0: Negative, 1: Positive , 2: Neutral\n",
        "test_2 = pd.read_csv('sent_train.csv')\n",
        "train_2 = pd.read_csv('sent_valid.csv')\n",
        "\n",
        "# concatenate train and test subsets\n",
        "df_2 = pd.concat([test_2, train_2], ignore_index=True)\n",
        "\n",
        "# change the labelling in df_2['label'] to 0: Negative, 1: Neutral , 2: Positive\n",
        "new_df_2 = pd.DataFrame()\n",
        "df_2_sentiment0 = df_2.loc[df_2['label']==0]\n",
        "\n",
        "# rename the values in df_2['label'] = 1 to 2\n",
        "df_2_sentiment1 = df_2.loc[df_2['label']==1]\n",
        "df_2_sentiment1.loc[df_2_sentiment1['label'] == 1, 'label'] = 2\n",
        "\n",
        "# rename the values in df_2['label'] = 2 to 1\n",
        "df_2_sentiment2 = df_2.loc[df_2['label']==2]\n",
        "df_2_sentiment2.loc[df_2_sentiment2['label'] == 2, 'label'] = 1\n",
        "\n",
        "new_df_2 = pd.concat([df_2_sentiment0, df_2_sentiment1, df_2_sentiment2], ignore_index=True)\n",
        "new_df_2 = new_df_2.rename(columns={'text':'title', 'label':'labels'})\n",
        "\n",
        "# df_2 concat with df\n",
        "data = pd.concat([df[['title', 'labels']], new_df_2[['title', 'labels']]], ignore_index=True)\n",
        "\n",
        "data.head()"
      ],
      "metadata": {
        "id": "T5XbXx2SC8I-",
        "colab": {
          "base_uri": "https://localhost:8080/",
          "height": 206
        },
        "outputId": "58f7d595-c10d-41a5-c5ad-b2641496c128"
      },
      "execution_count": 41,
      "outputs": [
        {
          "output_type": "execute_result",
          "data": {
            "text/plain": [
              "                                               title  labels\n",
              "0  Gildan Activewear Reports Strong Results for t...       2\n",
              "1  TRILLION ENERGY ANNOUNCES FLOW TEST RESULTS FO...       2\n",
              "2        CAPREIT Announces October 2022 Distribution       1\n",
              "3  Unigold Inc. Delivers Positive Feasibility Stu...       2\n",
              "4  Wallbridge Provides Update on Archer Explorati...       1"
            ],
            "text/html": [
              "\n",
              "  <div id=\"df-a319932e-5032-47c8-b4e3-c3fc0591a404\" class=\"colab-df-container\">\n",
              "    <div>\n",
              "<style scoped>\n",
              "    .dataframe tbody tr th:only-of-type {\n",
              "        vertical-align: middle;\n",
              "    }\n",
              "\n",
              "    .dataframe tbody tr th {\n",
              "        vertical-align: top;\n",
              "    }\n",
              "\n",
              "    .dataframe thead th {\n",
              "        text-align: right;\n",
              "    }\n",
              "</style>\n",
              "<table border=\"1\" class=\"dataframe\">\n",
              "  <thead>\n",
              "    <tr style=\"text-align: right;\">\n",
              "      <th></th>\n",
              "      <th>title</th>\n",
              "      <th>labels</th>\n",
              "    </tr>\n",
              "  </thead>\n",
              "  <tbody>\n",
              "    <tr>\n",
              "      <th>0</th>\n",
              "      <td>Gildan Activewear Reports Strong Results for t...</td>\n",
              "      <td>2</td>\n",
              "    </tr>\n",
              "    <tr>\n",
              "      <th>1</th>\n",
              "      <td>TRILLION ENERGY ANNOUNCES FLOW TEST RESULTS FO...</td>\n",
              "      <td>2</td>\n",
              "    </tr>\n",
              "    <tr>\n",
              "      <th>2</th>\n",
              "      <td>CAPREIT Announces October 2022 Distribution</td>\n",
              "      <td>1</td>\n",
              "    </tr>\n",
              "    <tr>\n",
              "      <th>3</th>\n",
              "      <td>Unigold Inc. Delivers Positive Feasibility Stu...</td>\n",
              "      <td>2</td>\n",
              "    </tr>\n",
              "    <tr>\n",
              "      <th>4</th>\n",
              "      <td>Wallbridge Provides Update on Archer Explorati...</td>\n",
              "      <td>1</td>\n",
              "    </tr>\n",
              "  </tbody>\n",
              "</table>\n",
              "</div>\n",
              "    <div class=\"colab-df-buttons\">\n",
              "\n",
              "  <div class=\"colab-df-container\">\n",
              "    <button class=\"colab-df-convert\" onclick=\"convertToInteractive('df-a319932e-5032-47c8-b4e3-c3fc0591a404')\"\n",
              "            title=\"Convert this dataframe to an interactive table.\"\n",
              "            style=\"display:none;\">\n",
              "\n",
              "  <svg xmlns=\"http://www.w3.org/2000/svg\" height=\"24px\" viewBox=\"0 -960 960 960\">\n",
              "    <path d=\"M120-120v-720h720v720H120Zm60-500h600v-160H180v160Zm220 220h160v-160H400v160Zm0 220h160v-160H400v160ZM180-400h160v-160H180v160Zm440 0h160v-160H620v160ZM180-180h160v-160H180v160Zm440 0h160v-160H620v160Z\"/>\n",
              "  </svg>\n",
              "    </button>\n",
              "\n",
              "  <style>\n",
              "    .colab-df-container {\n",
              "      display:flex;\n",
              "      gap: 12px;\n",
              "    }\n",
              "\n",
              "    .colab-df-convert {\n",
              "      background-color: #E8F0FE;\n",
              "      border: none;\n",
              "      border-radius: 50%;\n",
              "      cursor: pointer;\n",
              "      display: none;\n",
              "      fill: #1967D2;\n",
              "      height: 32px;\n",
              "      padding: 0 0 0 0;\n",
              "      width: 32px;\n",
              "    }\n",
              "\n",
              "    .colab-df-convert:hover {\n",
              "      background-color: #E2EBFA;\n",
              "      box-shadow: 0px 1px 2px rgba(60, 64, 67, 0.3), 0px 1px 3px 1px rgba(60, 64, 67, 0.15);\n",
              "      fill: #174EA6;\n",
              "    }\n",
              "\n",
              "    .colab-df-buttons div {\n",
              "      margin-bottom: 4px;\n",
              "    }\n",
              "\n",
              "    [theme=dark] .colab-df-convert {\n",
              "      background-color: #3B4455;\n",
              "      fill: #D2E3FC;\n",
              "    }\n",
              "\n",
              "    [theme=dark] .colab-df-convert:hover {\n",
              "      background-color: #434B5C;\n",
              "      box-shadow: 0px 1px 3px 1px rgba(0, 0, 0, 0.15);\n",
              "      filter: drop-shadow(0px 1px 2px rgba(0, 0, 0, 0.3));\n",
              "      fill: #FFFFFF;\n",
              "    }\n",
              "  </style>\n",
              "\n",
              "    <script>\n",
              "      const buttonEl =\n",
              "        document.querySelector('#df-a319932e-5032-47c8-b4e3-c3fc0591a404 button.colab-df-convert');\n",
              "      buttonEl.style.display =\n",
              "        google.colab.kernel.accessAllowed ? 'block' : 'none';\n",
              "\n",
              "      async function convertToInteractive(key) {\n",
              "        const element = document.querySelector('#df-a319932e-5032-47c8-b4e3-c3fc0591a404');\n",
              "        const dataTable =\n",
              "          await google.colab.kernel.invokeFunction('convertToInteractive',\n",
              "                                                    [key], {});\n",
              "        if (!dataTable) return;\n",
              "\n",
              "        const docLinkHtml = 'Like what you see? Visit the ' +\n",
              "          '<a target=\"_blank\" href=https://colab.research.google.com/notebooks/data_table.ipynb>data table notebook</a>'\n",
              "          + ' to learn more about interactive tables.';\n",
              "        element.innerHTML = '';\n",
              "        dataTable['output_type'] = 'display_data';\n",
              "        await google.colab.output.renderOutput(dataTable, element);\n",
              "        const docLink = document.createElement('div');\n",
              "        docLink.innerHTML = docLinkHtml;\n",
              "        element.appendChild(docLink);\n",
              "      }\n",
              "    </script>\n",
              "  </div>\n",
              "\n",
              "\n",
              "<div id=\"df-8367a949-b7dd-447a-b0e3-b512eeab0c94\">\n",
              "  <button class=\"colab-df-quickchart\" onclick=\"quickchart('df-8367a949-b7dd-447a-b0e3-b512eeab0c94')\"\n",
              "            title=\"Suggest charts\"\n",
              "            style=\"display:none;\">\n",
              "\n",
              "<svg xmlns=\"http://www.w3.org/2000/svg\" height=\"24px\"viewBox=\"0 0 24 24\"\n",
              "     width=\"24px\">\n",
              "    <g>\n",
              "        <path d=\"M19 3H5c-1.1 0-2 .9-2 2v14c0 1.1.9 2 2 2h14c1.1 0 2-.9 2-2V5c0-1.1-.9-2-2-2zM9 17H7v-7h2v7zm4 0h-2V7h2v10zm4 0h-2v-4h2v4z\"/>\n",
              "    </g>\n",
              "</svg>\n",
              "  </button>\n",
              "\n",
              "<style>\n",
              "  .colab-df-quickchart {\n",
              "      --bg-color: #E8F0FE;\n",
              "      --fill-color: #1967D2;\n",
              "      --hover-bg-color: #E2EBFA;\n",
              "      --hover-fill-color: #174EA6;\n",
              "      --disabled-fill-color: #AAA;\n",
              "      --disabled-bg-color: #DDD;\n",
              "  }\n",
              "\n",
              "  [theme=dark] .colab-df-quickchart {\n",
              "      --bg-color: #3B4455;\n",
              "      --fill-color: #D2E3FC;\n",
              "      --hover-bg-color: #434B5C;\n",
              "      --hover-fill-color: #FFFFFF;\n",
              "      --disabled-bg-color: #3B4455;\n",
              "      --disabled-fill-color: #666;\n",
              "  }\n",
              "\n",
              "  .colab-df-quickchart {\n",
              "    background-color: var(--bg-color);\n",
              "    border: none;\n",
              "    border-radius: 50%;\n",
              "    cursor: pointer;\n",
              "    display: none;\n",
              "    fill: var(--fill-color);\n",
              "    height: 32px;\n",
              "    padding: 0;\n",
              "    width: 32px;\n",
              "  }\n",
              "\n",
              "  .colab-df-quickchart:hover {\n",
              "    background-color: var(--hover-bg-color);\n",
              "    box-shadow: 0 1px 2px rgba(60, 64, 67, 0.3), 0 1px 3px 1px rgba(60, 64, 67, 0.15);\n",
              "    fill: var(--button-hover-fill-color);\n",
              "  }\n",
              "\n",
              "  .colab-df-quickchart-complete:disabled,\n",
              "  .colab-df-quickchart-complete:disabled:hover {\n",
              "    background-color: var(--disabled-bg-color);\n",
              "    fill: var(--disabled-fill-color);\n",
              "    box-shadow: none;\n",
              "  }\n",
              "\n",
              "  .colab-df-spinner {\n",
              "    border: 2px solid var(--fill-color);\n",
              "    border-color: transparent;\n",
              "    border-bottom-color: var(--fill-color);\n",
              "    animation:\n",
              "      spin 1s steps(1) infinite;\n",
              "  }\n",
              "\n",
              "  @keyframes spin {\n",
              "    0% {\n",
              "      border-color: transparent;\n",
              "      border-bottom-color: var(--fill-color);\n",
              "      border-left-color: var(--fill-color);\n",
              "    }\n",
              "    20% {\n",
              "      border-color: transparent;\n",
              "      border-left-color: var(--fill-color);\n",
              "      border-top-color: var(--fill-color);\n",
              "    }\n",
              "    30% {\n",
              "      border-color: transparent;\n",
              "      border-left-color: var(--fill-color);\n",
              "      border-top-color: var(--fill-color);\n",
              "      border-right-color: var(--fill-color);\n",
              "    }\n",
              "    40% {\n",
              "      border-color: transparent;\n",
              "      border-right-color: var(--fill-color);\n",
              "      border-top-color: var(--fill-color);\n",
              "    }\n",
              "    60% {\n",
              "      border-color: transparent;\n",
              "      border-right-color: var(--fill-color);\n",
              "    }\n",
              "    80% {\n",
              "      border-color: transparent;\n",
              "      border-right-color: var(--fill-color);\n",
              "      border-bottom-color: var(--fill-color);\n",
              "    }\n",
              "    90% {\n",
              "      border-color: transparent;\n",
              "      border-bottom-color: var(--fill-color);\n",
              "    }\n",
              "  }\n",
              "</style>\n",
              "\n",
              "  <script>\n",
              "    async function quickchart(key) {\n",
              "      const quickchartButtonEl =\n",
              "        document.querySelector('#' + key + ' button');\n",
              "      quickchartButtonEl.disabled = true;  // To prevent multiple clicks.\n",
              "      quickchartButtonEl.classList.add('colab-df-spinner');\n",
              "      try {\n",
              "        const charts = await google.colab.kernel.invokeFunction(\n",
              "            'suggestCharts', [key], {});\n",
              "      } catch (error) {\n",
              "        console.error('Error during call to suggestCharts:', error);\n",
              "      }\n",
              "      quickchartButtonEl.classList.remove('colab-df-spinner');\n",
              "      quickchartButtonEl.classList.add('colab-df-quickchart-complete');\n",
              "    }\n",
              "    (() => {\n",
              "      let quickchartButtonEl =\n",
              "        document.querySelector('#df-8367a949-b7dd-447a-b0e3-b512eeab0c94 button');\n",
              "      quickchartButtonEl.style.display =\n",
              "        google.colab.kernel.accessAllowed ? 'block' : 'none';\n",
              "    })();\n",
              "  </script>\n",
              "</div>\n",
              "    </div>\n",
              "  </div>\n"
            ]
          },
          "metadata": {},
          "execution_count": 41
        }
      ]
    },
    {
      "cell_type": "markdown",
      "source": [
        "## Exploratory data analysis"
      ],
      "metadata": {
        "id": "BpKjppyYm2qD"
      }
    },
    {
      "cell_type": "markdown",
      "source": [
        "It is important to check the breakdown of number of datapoints belonging to each classification. We do this by plotting a barchart."
      ],
      "metadata": {
        "id": "PpoPobFwtTtB"
      }
    },
    {
      "cell_type": "code",
      "source": [
        "import matplotlib.pyplot as plt\n",
        "\n",
        "heights = [\n",
        "    len(np.where(data[\"labels\"] == 0)[0]),\n",
        "    len(np.where(data[\"labels\"] == 1)[0]),\n",
        "    len(np.where(data[\"labels\"] == 2)[0])\n",
        "]\n",
        "\n",
        "plt.bar(x=[0, 1, 2], height=heights, tick_label=[\"negative\", \"neutral\", \"positive\"], color=[\"salmon\", \"skyblue\", \"mediumseagreen\"])"
      ],
      "metadata": {
        "colab": {
          "base_uri": "https://localhost:8080/",
          "height": 448
        },
        "id": "r9gmMYNRm4Zd",
        "outputId": "855e0997-3097-4a7e-da51-ddb4e31c46de"
      },
      "execution_count": 105,
      "outputs": [
        {
          "output_type": "execute_result",
          "data": {
            "text/plain": [
              "<BarContainer object of 3 artists>"
            ]
          },
          "metadata": {},
          "execution_count": 105
        },
        {
          "output_type": "display_data",
          "data": {
            "text/plain": [
              "<Figure size 640x480 with 1 Axes>"
            ],
            "image/png": "[encoded data removed]"
          },
          "metadata": {}
        }
      ]
    },
    {
      "cell_type": "markdown",
      "source": [
        "Based on the barchart, while the number of \"neutral\" labels exceed the other two labels, there is still significant data from the other two labels to carry out training."
      ],
      "metadata": {
        "id": "g006r-wqtbrW"
      }
    },
    {
      "cell_type": "markdown",
      "source": [
        "## Create train-test split for data"
      ],
      "metadata": {
        "id": "s6iRjVfpK8jG"
      }
    },
    {
      "cell_type": "markdown",
      "source": [
        "The data will be split into 80% for training and validation, and 20% for testing. The training data will be further split subsequently into train and validation data."
      ],
      "metadata": {
        "id": "LfA4gF3JLhg-"
      }
    },
    {
      "cell_type": "code",
      "source": [
        "from sklearn.model_selection import train_test_split\n",
        "\n",
        "train_data, test_data_original = train_test_split(data, test_size=0.2, shuffle=True, random_state=4222)"
      ],
      "metadata": {
        "id": "Steypob-K75h"
      },
      "execution_count": 42,
      "outputs": []
    },
    {
      "cell_type": "markdown",
      "source": [
        "## Remove parts non-essential parts of text data"
      ],
      "metadata": {
        "id": "xYFb0SUuEBcT"
      }
    },
    {
      "cell_type": "markdown",
      "source": [
        "Parts of the text, such as URLs, hashtags and username tags, are not useful in helping the model to identify the sentiment. Hence, we will be removing them to help our model focus on what is important."
      ],
      "metadata": {
        "id": "UIwypYfyTnmP"
      }
    },
    {
      "cell_type": "code",
      "source": [
        "def regex_cleanup(data):\n",
        "    # regex cleaning to remove URLs\n",
        "    data['title'] = data['title'].replace(to_replace=r'https?:\\/\\/.*[\\r\\n]*',value='',regex=True)\n",
        "\n",
        "    # regex remove hashtags, newline and twitter usernames (@)\n",
        "    data['title'] = data['title'].replace(to_replace=r'#',value='',regex=True)\n",
        "    data['title'] = data['title'].replace(to_replace=r'\\n',value='',regex=True)\n",
        "    data['title'] = data['title'].replace(to_replace=r'@[^\\s]+',value='',regex=True)\n",
        "\n",
        "    # remove symbols\n",
        "    symbol_pattern = r'[!@#%^&*()_+{}:;\"\\'<>,.?\\|\\/`~0-9]'\n",
        "    data['title'] = data['title'].str.replace(symbol_pattern, '', regex=True)\n",
        "\n",
        "regex_cleanup(train_data)"
      ],
      "metadata": {
        "id": "maO2NDrzuP6R"
      },
      "execution_count": 19,
      "outputs": []
    },
    {
      "cell_type": "code",
      "source": [
        "import nltk\n",
        "from nltk.corpus import words\n",
        "nltk.download(\"words\")\n",
        "nltk.download('punkt')"
      ],
      "metadata": {
        "id": "_lX1s8yFEs_I",
        "colab": {
          "base_uri": "https://localhost:8080/"
        },
        "outputId": "f3f4ccdd-81db-40bd-fc8e-23369de3c88c"
      },
      "execution_count": 8,
      "outputs": [
        {
          "output_type": "stream",
          "name": "stderr",
          "text": [
            "[nltk_data] Downloading package words to /root/nltk_data...\n",
            "[nltk_data]   Unzipping corpora/words.zip.\n",
            "[nltk_data] Downloading package punkt to /root/nltk_data...\n",
            "[nltk_data]   Unzipping tokenizers/punkt.zip.\n"
          ]
        },
        {
          "output_type": "execute_result",
          "data": {
            "text/plain": [
              "True"
            ]
          },
          "metadata": {},
          "execution_count": 8
        }
      ]
    },
    {
      "cell_type": "code",
      "source": [
        "from unidecode import unidecode\n",
        "\n",
        "def remove_non_english(cell):\n",
        "    if isinstance(cell, str):\n",
        "        # convert non-ASCII characters to their closest ASCII representation\n",
        "        ascii_text = unidecode(cell)\n",
        "\n",
        "        # filter out words that do not consist of alphabets\n",
        "        english_words = [word for word in ascii_text.split() if word.isalpha()]\n",
        "\n",
        "        # join filtered words back into a string\n",
        "        cleaned_text = ' '.join(english_words)\n",
        "\n",
        "        return cleaned_text\n",
        "    elif isinstance(cell, (float, int)):\n",
        "        # convert float or int to string\n",
        "        return str(cell)\n",
        "    else:\n",
        "        return cell\n",
        "\n",
        "new_train_data = train_data.copy()\n",
        "new_train_data[\"title\"] = new_train_data[\"title\"].apply(remove_non_english)"
      ],
      "metadata": {
        "id": "nFerh2oYDjsd"
      },
      "execution_count": 20,
      "outputs": []
    },
    {
      "cell_type": "code",
      "source": [
        "print(len(new_train_data))\n",
        "new_train_data.replace(\"\", float(\"NaN\"), inplace=True)\n",
        "cleaned_data = new_train_data.dropna()\n",
        "print(len(cleaned_data))"
      ],
      "metadata": {
        "colab": {
          "base_uri": "https://localhost:8080/"
        },
        "id": "10cTjIgiDyqE",
        "outputId": "ec4f96a5-bc73-4d0b-c20f-8f32d4ecaf42"
      },
      "execution_count": 10,
      "outputs": [
        {
          "output_type": "stream",
          "name": "stdout",
          "text": [
            "10968\n",
            "10946\n"
          ]
        }
      ]
    },
    {
      "cell_type": "markdown",
      "source": [
        "## Using NER to obtain the entities involved in each news title"
      ],
      "metadata": {
        "id": "OPmgvSyMohFK"
      }
    },
    {
      "cell_type": "markdown",
      "source": [
        "The final NER is a combination of results from using spaCy and BERT to identify the entities."
      ],
      "metadata": {
        "id": "eA6U7x-5oyEn"
      }
    },
    {
      "cell_type": "code",
      "source": [
        "import spacy\n",
        "\n",
        "nlp = spacy.load(\"en_core_web_sm\")\n",
        "def perform_ner(text):\n",
        "    doc = nlp(text)\n",
        "    organizations = [ent.text for ent in doc.ents if ent.label_ == \"ORG\"]\n",
        "    return organizations\n",
        "\n",
        "cleaned_data['NER'] = cleaned_data['title'].apply(perform_ner)\n",
        "spacy_results = cleaned_data.NER.tolist()"
      ],
      "metadata": {
        "id": "TktEvupZonb8"
      },
      "execution_count": 21,
      "outputs": []
    },
    {
      "cell_type": "code",
      "source": [
        "from transformers import AutoTokenizer, AutoModelForTokenClassification, pipeline\n",
        "\n",
        "def refine_org_name(ner_results):\n",
        "    orgs_list = []\n",
        "    org_name = \"\"\n",
        "    # A set of common words not typically part of an organization name\n",
        "    non_org_keywords = {\n",
        "        'reports', 'results', 'quarter', 'earnings', 'profit', 'loss', 'revenue',\n",
        "        'confirms', 'increase', 'delivers'\n",
        "    }\n",
        "\n",
        "    for result in ner_results:\n",
        "\n",
        "        entity = result['entity']\n",
        "        word = result['word']\n",
        "\n",
        "        # check for first org occurence\n",
        "        subword_flag = False\n",
        "        if entity == 'B-ORG':\n",
        "          # check if subword\n",
        "          if word[0:2] == \"##\":\n",
        "            word = word.replace('##', '')\n",
        "            org_name += word\n",
        "            subword_flag = True\n",
        "          else:\n",
        "            #add prev org to list\n",
        "            if len(org_name) > 0:\n",
        "              orgs_list.append(org_name.strip())\n",
        "            org_name = word\n",
        "        # check for I org subword\n",
        "        elif entity == 'I-ORG':\n",
        "          if word[0:2] == \"##\":\n",
        "            word = word.replace('##', '')\n",
        "            org_name += word\n",
        "        # check for I org but not subword\n",
        "          elif(word.lower() not in non_org_keywords):\n",
        "            org_name += f\" {word}\"\n",
        "\n",
        "    if org_name.strip() not in orgs_list and org_name:\n",
        "      orgs_list.append(org_name.strip())\n",
        "\n",
        "    return orgs_list\n",
        "\n",
        "\n",
        "# Use the refined function to reconstruct the organization name\n",
        "def BERT_NER(dataset):\n",
        "  tokenizer = AutoTokenizer.from_pretrained(\"butchland/bert-finetuned-ner\")\n",
        "  model = AutoModelForTokenClassification.from_pretrained(\"butchland/bert-finetuned-ner\")\n",
        "  nlp = pipeline(\"ner\", model=model, tokenizer=tokenizer)\n",
        "  NER_res = []\n",
        "\n",
        "  for sentence in dataset:\n",
        "    sentence_orgs = refine_org_name(nlp(sentence))\n",
        "    NER_res.append(sentence_orgs)\n",
        "  return NER_res\n",
        "\n",
        "tests = cleaned_data.title.tolist()\n",
        "bert_results = BERT_NER(tests)"
      ],
      "metadata": {
        "id": "6wQzdzZJzS7a"
      },
      "execution_count": 22,
      "outputs": []
    },
    {
      "cell_type": "code",
      "source": [
        "def combine_results(spacy, bert):\n",
        "    combined_results = []\n",
        "    for orgs_spacy, orgs_bert in zip(spacy, bert):\n",
        "      if orgs_bert:\n",
        "        combined_results.append(orgs_bert)\n",
        "      elif orgs_spacy:\n",
        "        combined_results.append(orgs_spacy)\n",
        "      else:\n",
        "        combined_results.append('No Entity Recognised')\n",
        "    return combined_results\n",
        "\n",
        "NER_col_results = combine_results(spacy_results, bert_results)\n",
        "cleaned_data['Entities'] = NER_col_results\n",
        "\n",
        "cleaned_data.head()"
      ],
      "metadata": {
        "colab": {
          "base_uri": "https://localhost:8080/",
          "height": 317
        },
        "id": "LsrMb6tP1pcm",
        "outputId": "66cf0fee-e11e-4843-8fe4-baaa39bd7847"
      },
      "execution_count": 14,
      "outputs": [
        {
          "output_type": "stream",
          "name": "stderr",
          "text": [
            "<ipython-input-14-c1ff872885cb>:16: SettingWithCopyWarning: \n",
            "A value is trying to be set on a copy of a slice from a DataFrame.\n",
            "Try using .loc[row_indexer,col_indexer] = value instead\n",
            "\n",
            "See the caveats in the documentation: https://pandas.pydata.org/pandas-docs/stable/user_guide/indexing.html#returning-a-view-versus-a-copy\n",
            "  cleaned_data['Entities'] = NER_col_results\n"
          ]
        },
        {
          "output_type": "execute_result",
          "data": {
            "text/plain": [
              "                                                  title  labels  \\\n",
              "4128  Watts Water Technologies EPS beats by beats on...       2   \n",
              "2482  The solar panel market could drop by this year...       0   \n",
              "5533  Motorola Solutions stock fair value estimate r...       2   \n",
              "9069  Highlight Democrats and the White House reach ...       1   \n",
              "9116      How to Find Cheap Stocks Trading Under Nasdaq       1   \n",
              "\n",
              "                                     NER                            Entities  \n",
              "4128      [Watts Water Technologies EPS]          [Watts Water Technologies]  \n",
              "2482                                  []                No Entity Recognised  \n",
              "5533  [Motorola Solutions, MKM Partners]  [Motorola Solutions, MKM Partners]  \n",
              "9069            [the White House, USMCA]            [the White House, USMCA]  \n",
              "9116                            [Nasdaq]                            [Nasdaq]  "
            ],
            "text/html": [
              "\n",
              "  <div id=\"df-512de904-153f-413c-a10d-320d973c932b\" class=\"colab-df-container\">\n",
              "    <div>\n",
              "<style scoped>\n",
              "    .dataframe tbody tr th:only-of-type {\n",
              "        vertical-align: middle;\n",
              "    }\n",
              "\n",
              "    .dataframe tbody tr th {\n",
              "        vertical-align: top;\n",
              "    }\n",
              "\n",
              "    .dataframe thead th {\n",
              "        text-align: right;\n",
              "    }\n",
              "</style>\n",
              "<table border=\"1\" class=\"dataframe\">\n",
              "  <thead>\n",
              "    <tr style=\"text-align: right;\">\n",
              "      <th></th>\n",
              "      <th>title</th>\n",
              "      <th>labels</th>\n",
              "      <th>NER</th>\n",
              "      <th>Entities</th>\n",
              "    </tr>\n",
              "  </thead>\n",
              "  <tbody>\n",
              "    <tr>\n",
              "      <th>4128</th>\n",
              "      <td>Watts Water Technologies EPS beats by beats on...</td>\n",
              "      <td>2</td>\n",
              "      <td>[Watts Water Technologies EPS]</td>\n",
              "      <td>[Watts Water Technologies]</td>\n",
              "    </tr>\n",
              "    <tr>\n",
              "      <th>2482</th>\n",
              "      <td>The solar panel market could drop by this year...</td>\n",
              "      <td>0</td>\n",
              "      <td>[]</td>\n",
              "      <td>No Entity Recognised</td>\n",
              "    </tr>\n",
              "    <tr>\n",
              "      <th>5533</th>\n",
              "      <td>Motorola Solutions stock fair value estimate r...</td>\n",
              "      <td>2</td>\n",
              "      <td>[Motorola Solutions, MKM Partners]</td>\n",
              "      <td>[Motorola Solutions, MKM Partners]</td>\n",
              "    </tr>\n",
              "    <tr>\n",
              "      <th>9069</th>\n",
              "      <td>Highlight Democrats and the White House reach ...</td>\n",
              "      <td>1</td>\n",
              "      <td>[the White House, USMCA]</td>\n",
              "      <td>[the White House, USMCA]</td>\n",
              "    </tr>\n",
              "    <tr>\n",
              "      <th>9116</th>\n",
              "      <td>How to Find Cheap Stocks Trading Under Nasdaq</td>\n",
              "      <td>1</td>\n",
              "      <td>[Nasdaq]</td>\n",
              "      <td>[Nasdaq]</td>\n",
              "    </tr>\n",
              "  </tbody>\n",
              "</table>\n",
              "</div>\n",
              "    <div class=\"colab-df-buttons\">\n",
              "\n",
              "  <div class=\"colab-df-container\">\n",
              "    <button class=\"colab-df-convert\" onclick=\"convertToInteractive('df-512de904-153f-413c-a10d-320d973c932b')\"\n",
              "            title=\"Convert this dataframe to an interactive table.\"\n",
              "            style=\"display:none;\">\n",
              "\n",
              "  <svg xmlns=\"http://www.w3.org/2000/svg\" height=\"24px\" viewBox=\"0 -960 960 960\">\n",
              "    <path d=\"M120-120v-720h720v720H120Zm60-500h600v-160H180v160Zm220 220h160v-160H400v160Zm0 220h160v-160H400v160ZM180-400h160v-160H180v160Zm440 0h160v-160H620v160ZM180-180h160v-160H180v160Zm440 0h160v-160H620v160Z\"/>\n",
              "  </svg>\n",
              "    </button>\n",
              "\n",
              "  <style>\n",
              "    .colab-df-container {\n",
              "      display:flex;\n",
              "      gap: 12px;\n",
              "    }\n",
              "\n",
              "    .colab-df-convert {\n",
              "      background-color: #E8F0FE;\n",
              "      border: none;\n",
              "      border-radius: 50%;\n",
              "      cursor: pointer;\n",
              "      display: none;\n",
              "      fill: #1967D2;\n",
              "      height: 32px;\n",
              "      padding: 0 0 0 0;\n",
              "      width: 32px;\n",
              "    }\n",
              "\n",
              "    .colab-df-convert:hover {\n",
              "      background-color: #E2EBFA;\n",
              "      box-shadow: 0px 1px 2px rgba(60, 64, 67, 0.3), 0px 1px 3px 1px rgba(60, 64, 67, 0.15);\n",
              "      fill: #174EA6;\n",
              "    }\n",
              "\n",
              "    .colab-df-buttons div {\n",
              "      margin-bottom: 4px;\n",
              "    }\n",
              "\n",
              "    [theme=dark] .colab-df-convert {\n",
              "      background-color: #3B4455;\n",
              "      fill: #D2E3FC;\n",
              "    }\n",
              "\n",
              "    [theme=dark] .colab-df-convert:hover {\n",
              "      background-color: #434B5C;\n",
              "      box-shadow: 0px 1px 3px 1px rgba(0, 0, 0, 0.15);\n",
              "      filter: drop-shadow(0px 1px 2px rgba(0, 0, 0, 0.3));\n",
              "      fill: #FFFFFF;\n",
              "    }\n",
              "  </style>\n",
              "\n",
              "    <script>\n",
              "      const buttonEl =\n",
              "        document.querySelector('#df-512de904-153f-413c-a10d-320d973c932b button.colab-df-convert');\n",
              "      buttonEl.style.display =\n",
              "        google.colab.kernel.accessAllowed ? 'block' : 'none';\n",
              "\n",
              "      async function convertToInteractive(key) {\n",
              "        const element = document.querySelector('#df-512de904-153f-413c-a10d-320d973c932b');\n",
              "        const dataTable =\n",
              "          await google.colab.kernel.invokeFunction('convertToInteractive',\n",
              "                                                    [key], {});\n",
              "        if (!dataTable) return;\n",
              "\n",
              "        const docLinkHtml = 'Like what you see? Visit the ' +\n",
              "          '<a target=\"_blank\" href=https://colab.research.google.com/notebooks/data_table.ipynb>data table notebook</a>'\n",
              "          + ' to learn more about interactive tables.';\n",
              "        element.innerHTML = '';\n",
              "        dataTable['output_type'] = 'display_data';\n",
              "        await google.colab.output.renderOutput(dataTable, element);\n",
              "        const docLink = document.createElement('div');\n",
              "        docLink.innerHTML = docLinkHtml;\n",
              "        element.appendChild(docLink);\n",
              "      }\n",
              "    </script>\n",
              "  </div>\n",
              "\n",
              "\n",
              "<div id=\"df-24718c94-1ca6-4633-936a-cd06b50b44e9\">\n",
              "  <button class=\"colab-df-quickchart\" onclick=\"quickchart('df-24718c94-1ca6-4633-936a-cd06b50b44e9')\"\n",
              "            title=\"Suggest charts\"\n",
              "            style=\"display:none;\">\n",
              "\n",
              "<svg xmlns=\"http://www.w3.org/2000/svg\" height=\"24px\"viewBox=\"0 0 24 24\"\n",
              "     width=\"24px\">\n",
              "    <g>\n",
              "        <path d=\"M19 3H5c-1.1 0-2 .9-2 2v14c0 1.1.9 2 2 2h14c1.1 0 2-.9 2-2V5c0-1.1-.9-2-2-2zM9 17H7v-7h2v7zm4 0h-2V7h2v10zm4 0h-2v-4h2v4z\"/>\n",
              "    </g>\n",
              "</svg>\n",
              "  </button>\n",
              "\n",
              "<style>\n",
              "  .colab-df-quickchart {\n",
              "      --bg-color: #E8F0FE;\n",
              "      --fill-color: #1967D2;\n",
              "      --hover-bg-color: #E2EBFA;\n",
              "      --hover-fill-color: #174EA6;\n",
              "      --disabled-fill-color: #AAA;\n",
              "      --disabled-bg-color: #DDD;\n",
              "  }\n",
              "\n",
              "  [theme=dark] .colab-df-quickchart {\n",
              "      --bg-color: #3B4455;\n",
              "      --fill-color: #D2E3FC;\n",
              "      --hover-bg-color: #434B5C;\n",
              "      --hover-fill-color: #FFFFFF;\n",
              "      --disabled-bg-color: #3B4455;\n",
              "      --disabled-fill-color: #666;\n",
              "  }\n",
              "\n",
              "  .colab-df-quickchart {\n",
              "    background-color: var(--bg-color);\n",
              "    border: none;\n",
              "    border-radius: 50%;\n",
              "    cursor: pointer;\n",
              "    display: none;\n",
              "    fill: var(--fill-color);\n",
              "    height: 32px;\n",
              "    padding: 0;\n",
              "    width: 32px;\n",
              "  }\n",
              "\n",
              "  .colab-df-quickchart:hover {\n",
              "    background-color: var(--hover-bg-color);\n",
              "    box-shadow: 0 1px 2px rgba(60, 64, 67, 0.3), 0 1px 3px 1px rgba(60, 64, 67, 0.15);\n",
              "    fill: var(--button-hover-fill-color);\n",
              "  }\n",
              "\n",
              "  .colab-df-quickchart-complete:disabled,\n",
              "  .colab-df-quickchart-complete:disabled:hover {\n",
              "    background-color: var(--disabled-bg-color);\n",
              "    fill: var(--disabled-fill-color);\n",
              "    box-shadow: none;\n",
              "  }\n",
              "\n",
              "  .colab-df-spinner {\n",
              "    border: 2px solid var(--fill-color);\n",
              "    border-color: transparent;\n",
              "    border-bottom-color: var(--fill-color);\n",
              "    animation:\n",
              "      spin 1s steps(1) infinite;\n",
              "  }\n",
              "\n",
              "  @keyframes spin {\n",
              "    0% {\n",
              "      border-color: transparent;\n",
              "      border-bottom-color: var(--fill-color);\n",
              "      border-left-color: var(--fill-color);\n",
              "    }\n",
              "    20% {\n",
              "      border-color: transparent;\n",
              "      border-left-color: var(--fill-color);\n",
              "      border-top-color: var(--fill-color);\n",
              "    }\n",
              "    30% {\n",
              "      border-color: transparent;\n",
              "      border-left-color: var(--fill-color);\n",
              "      border-top-color: var(--fill-color);\n",
              "      border-right-color: var(--fill-color);\n",
              "    }\n",
              "    40% {\n",
              "      border-color: transparent;\n",
              "      border-right-color: var(--fill-color);\n",
              "      border-top-color: var(--fill-color);\n",
              "    }\n",
              "    60% {\n",
              "      border-color: transparent;\n",
              "      border-right-color: var(--fill-color);\n",
              "    }\n",
              "    80% {\n",
              "      border-color: transparent;\n",
              "      border-right-color: var(--fill-color);\n",
              "      border-bottom-color: var(--fill-color);\n",
              "    }\n",
              "    90% {\n",
              "      border-color: transparent;\n",
              "      border-bottom-color: var(--fill-color);\n",
              "    }\n",
              "  }\n",
              "</style>\n",
              "\n",
              "  <script>\n",
              "    async function quickchart(key) {\n",
              "      const quickchartButtonEl =\n",
              "        document.querySelector('#' + key + ' button');\n",
              "      quickchartButtonEl.disabled = true;  // To prevent multiple clicks.\n",
              "      quickchartButtonEl.classList.add('colab-df-spinner');\n",
              "      try {\n",
              "        const charts = await google.colab.kernel.invokeFunction(\n",
              "            'suggestCharts', [key], {});\n",
              "      } catch (error) {\n",
              "        console.error('Error during call to suggestCharts:', error);\n",
              "      }\n",
              "      quickchartButtonEl.classList.remove('colab-df-spinner');\n",
              "      quickchartButtonEl.classList.add('colab-df-quickchart-complete');\n",
              "    }\n",
              "    (() => {\n",
              "      let quickchartButtonEl =\n",
              "        document.querySelector('#df-24718c94-1ca6-4633-936a-cd06b50b44e9 button');\n",
              "      quickchartButtonEl.style.display =\n",
              "        google.colab.kernel.accessAllowed ? 'block' : 'none';\n",
              "    })();\n",
              "  </script>\n",
              "</div>\n",
              "    </div>\n",
              "  </div>\n"
            ]
          },
          "metadata": {},
          "execution_count": 14
        }
      ]
    },
    {
      "cell_type": "markdown",
      "source": [
        "##### checkpoint"
      ],
      "metadata": {
        "id": "plxnkri-n0g4"
      }
    },
    {
      "cell_type": "code",
      "source": [
        "from google.colab import drive\n",
        "drive.mount('/content/gdrive')"
      ],
      "metadata": {
        "colab": {
          "base_uri": "https://localhost:8080/"
        },
        "id": "DtvOTrhU6Ipb",
        "outputId": "1a8f2906-ca2d-47d4-c122-4a29c1ce7bf4"
      },
      "execution_count": 17,
      "outputs": [
        {
          "output_type": "stream",
          "name": "stdout",
          "text": [
            "Mounted at /content/gdrive\n"
          ]
        }
      ]
    },
    {
      "cell_type": "code",
      "source": [
        "# saving cleaned_data to csv\n",
        "# cleaned_data.to_csv(\"/content/gdrive/My Drive/BT4222/cleaned_data_NER.csv\")\n",
        "\n",
        "# reading cleaned_data from csv\n",
        "cleaned_data = pd.read_csv(\"/content/gdrive/My Drive/BT4222/cleaned_data_NER.csv\", index_col=\"Unnamed: 0\")"
      ],
      "metadata": {
        "id": "Alz3uTdgD9qC"
      },
      "execution_count": 3,
      "outputs": []
    },
    {
      "cell_type": "markdown",
      "source": [
        "## Lemmatize data\n"
      ],
      "metadata": {
        "id": "ed0flQ7WEOE7"
      }
    },
    {
      "cell_type": "markdown",
      "source": [
        "While lemmatization is considered computationally more expensive than stemming due to its reliance on a linguistic database, our team believes that lemmatization is superior because it yields complete English words, whereas stemming can result in incomplete or non-English words."
      ],
      "metadata": {
        "id": "wv7btv8tEZrZ"
      }
    },
    {
      "cell_type": "code",
      "source": [
        "import nltk\n",
        "from nltk.stem import WordNetLemmatizer\n",
        "from nltk.tokenize import word_tokenize\n",
        "nltk.download('wordnet')"
      ],
      "metadata": {
        "colab": {
          "base_uri": "https://localhost:8080/"
        },
        "id": "UACjkp3fEQQC",
        "outputId": "fd73c649-feb3-4e3d-de66-b3eb4f239730"
      },
      "execution_count": 5,
      "outputs": [
        {
          "output_type": "stream",
          "name": "stderr",
          "text": [
            "[nltk_data] Downloading package wordnet to /root/nltk_data...\n",
            "[nltk_data]   Package wordnet is already up-to-date!\n"
          ]
        },
        {
          "output_type": "execute_result",
          "data": {
            "text/plain": [
              "True"
            ]
          },
          "metadata": {},
          "execution_count": 5
        }
      ]
    },
    {
      "cell_type": "code",
      "source": [
        "# resetting the index since it got shuffled by the train-test split\n",
        "# necessary to ensure the step that follows this goes well\n",
        "cleaned_data = cleaned_data.reset_index()"
      ],
      "metadata": {
        "id": "1NsUb4_P-wY8"
      },
      "execution_count": 4,
      "outputs": []
    },
    {
      "cell_type": "code",
      "source": [
        "# Create a WordNetLemmatizer object for lemmatization\n",
        "lemmatizer = WordNetLemmatizer()\n",
        "\n",
        "def lemmatize_sentence(text):\n",
        "    \"\"\"\n",
        "    Lemmatizes a given text by tokenizing it into words,\n",
        "    lemmatizing each word, and then rejoining them into a sentence.\n",
        "\n",
        "    Parameters:\n",
        "    - text (str): The input text to be lemmatized.\n",
        "\n",
        "    Returns:\n",
        "    - lemmatized_sentence (str): The lemmatized sentence.\n",
        "    \"\"\"\n",
        "    # Tokenize the sentence into words\n",
        "    words = word_tokenize(text)\n",
        "\n",
        "    # Lemmatize each word and convert to lowercase\n",
        "    lemmatized_words = [lemmatizer.lemmatize(word.lower()) for word in words]\n",
        "\n",
        "    # Join the lemmatized words back into a sentence\n",
        "    lemmatized_sentence = ' '.join(lemmatized_words)\n",
        "\n",
        "    return lemmatized_sentence\n",
        "\n",
        "def lemmatize_dataset(sentences):\n",
        "    \"\"\"\n",
        "    Lemmatizes an entire dataset of sentences using the lemmatize_sentence function.\n",
        "\n",
        "    Parameters:\n",
        "    - sentences (pd.Series): A Pandas Series containing the sentences to be lemmatized.\n",
        "\n",
        "    Returns:\n",
        "    - lemmatized (list) : A list of lemmatized sentences.\n",
        "    \"\"\"\n",
        "    # Initialize an empty list to store lemmatized sentences\n",
        "    lemmatized = []\n",
        "\n",
        "    # Iterate through each sentence in the dataset\n",
        "    for sentence in sentences:\n",
        "        # Lemmatize the current sentence and append to the list\n",
        "        lemmatized.append(lemmatize_sentence(sentence))\n",
        "\n",
        "    return lemmatized\n",
        "\n",
        "# Lemmatize the 'title' column in the 'data' DataFrame\n",
        "cleaned_data[\"title\"] = pd.Series(lemmatize_dataset(cleaned_data[\"title\"]))\n",
        "\n",
        "cleaned_data.head()"
      ],
      "metadata": {
        "colab": {
          "base_uri": "https://localhost:8080/",
          "height": 206
        },
        "id": "i5i-rfH7EWDQ",
        "outputId": "1d5e796f-3d72-4ec1-c856-ec0c0d8f4119"
      },
      "execution_count": 6,
      "outputs": [
        {
          "output_type": "execute_result",
          "data": {
            "text/plain": [
              "   index                                              title  labels  \\\n",
              "0   4128  watt water technology eps beat by beat on revenue       2   \n",
              "1   2482  the solar panel market could drop by this year...       0   \n",
              "2   5533  motorola solution stock fair value estimate ra...       2   \n",
              "3   9069  highlight democrat and the white house reach a...       1   \n",
              "4   9116       how to find cheap stock trading under nasdaq       1   \n",
              "\n",
              "                                      NER  \\\n",
              "0        ['Watts Water Technologies EPS']   \n",
              "1                                      []   \n",
              "2  ['Motorola Solutions', 'MKM Partners']   \n",
              "3            ['the White House', 'USMCA']   \n",
              "4                              ['Nasdaq']   \n",
              "\n",
              "                                 Entities  \n",
              "0            ['Watts Water Technologies']  \n",
              "1                    No Entity Recognised  \n",
              "2  ['Motorola Solutions', 'MKM Partners']  \n",
              "3            ['the White House', 'USMCA']  \n",
              "4                              ['Nasdaq']  "
            ],
            "text/html": [
              "\n",
              "  <div id=\"df-799a568c-fa18-4fd5-80d5-8ddaf578f124\" class=\"colab-df-container\">\n",
              "    <div>\n",
              "<style scoped>\n",
              "    .dataframe tbody tr th:only-of-type {\n",
              "        vertical-align: middle;\n",
              "    }\n",
              "\n",
              "    .dataframe tbody tr th {\n",
              "        vertical-align: top;\n",
              "    }\n",
              "\n",
              "    .dataframe thead th {\n",
              "        text-align: right;\n",
              "    }\n",
              "</style>\n",
              "<table border=\"1\" class=\"dataframe\">\n",
              "  <thead>\n",
              "    <tr style=\"text-align: right;\">\n",
              "      <th></th>\n",
              "      <th>index</th>\n",
              "      <th>title</th>\n",
              "      <th>labels</th>\n",
              "      <th>NER</th>\n",
              "      <th>Entities</th>\n",
              "    </tr>\n",
              "  </thead>\n",
              "  <tbody>\n",
              "    <tr>\n",
              "      <th>0</th>\n",
              "      <td>4128</td>\n",
              "      <td>watt water technology eps beat by beat on revenue</td>\n",
              "      <td>2</td>\n",
              "      <td>['Watts Water Technologies EPS']</td>\n",
              "      <td>['Watts Water Technologies']</td>\n",
              "    </tr>\n",
              "    <tr>\n",
              "      <th>1</th>\n",
              "      <td>2482</td>\n",
              "      <td>the solar panel market could drop by this year...</td>\n",
              "      <td>0</td>\n",
              "      <td>[]</td>\n",
              "      <td>No Entity Recognised</td>\n",
              "    </tr>\n",
              "    <tr>\n",
              "      <th>2</th>\n",
              "      <td>5533</td>\n",
              "      <td>motorola solution stock fair value estimate ra...</td>\n",
              "      <td>2</td>\n",
              "      <td>['Motorola Solutions', 'MKM Partners']</td>\n",
              "      <td>['Motorola Solutions', 'MKM Partners']</td>\n",
              "    </tr>\n",
              "    <tr>\n",
              "      <th>3</th>\n",
              "      <td>9069</td>\n",
              "      <td>highlight democrat and the white house reach a...</td>\n",
              "      <td>1</td>\n",
              "      <td>['the White House', 'USMCA']</td>\n",
              "      <td>['the White House', 'USMCA']</td>\n",
              "    </tr>\n",
              "    <tr>\n",
              "      <th>4</th>\n",
              "      <td>9116</td>\n",
              "      <td>how to find cheap stock trading under nasdaq</td>\n",
              "      <td>1</td>\n",
              "      <td>['Nasdaq']</td>\n",
              "      <td>['Nasdaq']</td>\n",
              "    </tr>\n",
              "  </tbody>\n",
              "</table>\n",
              "</div>\n",
              "    <div class=\"colab-df-buttons\">\n",
              "\n",
              "  <div class=\"colab-df-container\">\n",
              "    <button class=\"colab-df-convert\" onclick=\"convertToInteractive('df-799a568c-fa18-4fd5-80d5-8ddaf578f124')\"\n",
              "            title=\"Convert this dataframe to an interactive table.\"\n",
              "            style=\"display:none;\">\n",
              "\n",
              "  <svg xmlns=\"http://www.w3.org/2000/svg\" height=\"24px\" viewBox=\"0 -960 960 960\">\n",
              "    <path d=\"M120-120v-720h720v720H120Zm60-500h600v-160H180v160Zm220 220h160v-160H400v160Zm0 220h160v-160H400v160ZM180-400h160v-160H180v160Zm440 0h160v-160H620v160ZM180-180h160v-160H180v160Zm440 0h160v-160H620v160Z\"/>\n",
              "  </svg>\n",
              "    </button>\n",
              "\n",
              "  <style>\n",
              "    .colab-df-container {\n",
              "      display:flex;\n",
              "      gap: 12px;\n",
              "    }\n",
              "\n",
              "    .colab-df-convert {\n",
              "      background-color: #E8F0FE;\n",
              "      border: none;\n",
              "      border-radius: 50%;\n",
              "      cursor: pointer;\n",
              "      display: none;\n",
              "      fill: #1967D2;\n",
              "      height: 32px;\n",
              "      padding: 0 0 0 0;\n",
              "      width: 32px;\n",
              "    }\n",
              "\n",
              "    .colab-df-convert:hover {\n",
              "      background-color: #E2EBFA;\n",
              "      box-shadow: 0px 1px 2px rgba(60, 64, 67, 0.3), 0px 1px 3px 1px rgba(60, 64, 67, 0.15);\n",
              "      fill: #174EA6;\n",
              "    }\n",
              "\n",
              "    .colab-df-buttons div {\n",
              "      margin-bottom: 4px;\n",
              "    }\n",
              "\n",
              "    [theme=dark] .colab-df-convert {\n",
              "      background-color: #3B4455;\n",
              "      fill: #D2E3FC;\n",
              "    }\n",
              "\n",
              "    [theme=dark] .colab-df-convert:hover {\n",
              "      background-color: #434B5C;\n",
              "      box-shadow: 0px 1px 3px 1px rgba(0, 0, 0, 0.15);\n",
              "      filter: drop-shadow(0px 1px 2px rgba(0, 0, 0, 0.3));\n",
              "      fill: #FFFFFF;\n",
              "    }\n",
              "  </style>\n",
              "\n",
              "    <script>\n",
              "      const buttonEl =\n",
              "        document.querySelector('#df-799a568c-fa18-4fd5-80d5-8ddaf578f124 button.colab-df-convert');\n",
              "      buttonEl.style.display =\n",
              "        google.colab.kernel.accessAllowed ? 'block' : 'none';\n",
              "\n",
              "      async function convertToInteractive(key) {\n",
              "        const element = document.querySelector('#df-799a568c-fa18-4fd5-80d5-8ddaf578f124');\n",
              "        const dataTable =\n",
              "          await google.colab.kernel.invokeFunction('convertToInteractive',\n",
              "                                                    [key], {});\n",
              "        if (!dataTable) return;\n",
              "\n",
              "        const docLinkHtml = 'Like what you see? Visit the ' +\n",
              "          '<a target=\"_blank\" href=https://colab.research.google.com/notebooks/data_table.ipynb>data table notebook</a>'\n",
              "          + ' to learn more about interactive tables.';\n",
              "        element.innerHTML = '';\n",
              "        dataTable['output_type'] = 'display_data';\n",
              "        await google.colab.output.renderOutput(dataTable, element);\n",
              "        const docLink = document.createElement('div');\n",
              "        docLink.innerHTML = docLinkHtml;\n",
              "        element.appendChild(docLink);\n",
              "      }\n",
              "    </script>\n",
              "  </div>\n",
              "\n",
              "\n",
              "<div id=\"df-9e127372-0091-463a-835e-60ab3747adaf\">\n",
              "  <button class=\"colab-df-quickchart\" onclick=\"quickchart('df-9e127372-0091-463a-835e-60ab3747adaf')\"\n",
              "            title=\"Suggest charts\"\n",
              "            style=\"display:none;\">\n",
              "\n",
              "<svg xmlns=\"http://www.w3.org/2000/svg\" height=\"24px\"viewBox=\"0 0 24 24\"\n",
              "     width=\"24px\">\n",
              "    <g>\n",
              "        <path d=\"M19 3H5c-1.1 0-2 .9-2 2v14c0 1.1.9 2 2 2h14c1.1 0 2-.9 2-2V5c0-1.1-.9-2-2-2zM9 17H7v-7h2v7zm4 0h-2V7h2v10zm4 0h-2v-4h2v4z\"/>\n",
              "    </g>\n",
              "</svg>\n",
              "  </button>\n",
              "\n",
              "<style>\n",
              "  .colab-df-quickchart {\n",
              "      --bg-color: #E8F0FE;\n",
              "      --fill-color: #1967D2;\n",
              "      --hover-bg-color: #E2EBFA;\n",
              "      --hover-fill-color: #174EA6;\n",
              "      --disabled-fill-color: #AAA;\n",
              "      --disabled-bg-color: #DDD;\n",
              "  }\n",
              "\n",
              "  [theme=dark] .colab-df-quickchart {\n",
              "      --bg-color: #3B4455;\n",
              "      --fill-color: #D2E3FC;\n",
              "      --hover-bg-color: #434B5C;\n",
              "      --hover-fill-color: #FFFFFF;\n",
              "      --disabled-bg-color: #3B4455;\n",
              "      --disabled-fill-color: #666;\n",
              "  }\n",
              "\n",
              "  .colab-df-quickchart {\n",
              "    background-color: var(--bg-color);\n",
              "    border: none;\n",
              "    border-radius: 50%;\n",
              "    cursor: pointer;\n",
              "    display: none;\n",
              "    fill: var(--fill-color);\n",
              "    height: 32px;\n",
              "    padding: 0;\n",
              "    width: 32px;\n",
              "  }\n",
              "\n",
              "  .colab-df-quickchart:hover {\n",
              "    background-color: var(--hover-bg-color);\n",
              "    box-shadow: 0 1px 2px rgba(60, 64, 67, 0.3), 0 1px 3px 1px rgba(60, 64, 67, 0.15);\n",
              "    fill: var(--button-hover-fill-color);\n",
              "  }\n",
              "\n",
              "  .colab-df-quickchart-complete:disabled,\n",
              "  .colab-df-quickchart-complete:disabled:hover {\n",
              "    background-color: var(--disabled-bg-color);\n",
              "    fill: var(--disabled-fill-color);\n",
              "    box-shadow: none;\n",
              "  }\n",
              "\n",
              "  .colab-df-spinner {\n",
              "    border: 2px solid var(--fill-color);\n",
              "    border-color: transparent;\n",
              "    border-bottom-color: var(--fill-color);\n",
              "    animation:\n",
              "      spin 1s steps(1) infinite;\n",
              "  }\n",
              "\n",
              "  @keyframes spin {\n",
              "    0% {\n",
              "      border-color: transparent;\n",
              "      border-bottom-color: var(--fill-color);\n",
              "      border-left-color: var(--fill-color);\n",
              "    }\n",
              "    20% {\n",
              "      border-color: transparent;\n",
              "      border-left-color: var(--fill-color);\n",
              "      border-top-color: var(--fill-color);\n",
              "    }\n",
              "    30% {\n",
              "      border-color: transparent;\n",
              "      border-left-color: var(--fill-color);\n",
              "      border-top-color: var(--fill-color);\n",
              "      border-right-color: var(--fill-color);\n",
              "    }\n",
              "    40% {\n",
              "      border-color: transparent;\n",
              "      border-right-color: var(--fill-color);\n",
              "      border-top-color: var(--fill-color);\n",
              "    }\n",
              "    60% {\n",
              "      border-color: transparent;\n",
              "      border-right-color: var(--fill-color);\n",
              "    }\n",
              "    80% {\n",
              "      border-color: transparent;\n",
              "      border-right-color: var(--fill-color);\n",
              "      border-bottom-color: var(--fill-color);\n",
              "    }\n",
              "    90% {\n",
              "      border-color: transparent;\n",
              "      border-bottom-color: var(--fill-color);\n",
              "    }\n",
              "  }\n",
              "</style>\n",
              "\n",
              "  <script>\n",
              "    async function quickchart(key) {\n",
              "      const quickchartButtonEl =\n",
              "        document.querySelector('#' + key + ' button');\n",
              "      quickchartButtonEl.disabled = true;  // To prevent multiple clicks.\n",
              "      quickchartButtonEl.classList.add('colab-df-spinner');\n",
              "      try {\n",
              "        const charts = await google.colab.kernel.invokeFunction(\n",
              "            'suggestCharts', [key], {});\n",
              "      } catch (error) {\n",
              "        console.error('Error during call to suggestCharts:', error);\n",
              "      }\n",
              "      quickchartButtonEl.classList.remove('colab-df-spinner');\n",
              "      quickchartButtonEl.classList.add('colab-df-quickchart-complete');\n",
              "    }\n",
              "    (() => {\n",
              "      let quickchartButtonEl =\n",
              "        document.querySelector('#df-9e127372-0091-463a-835e-60ab3747adaf button');\n",
              "      quickchartButtonEl.style.display =\n",
              "        google.colab.kernel.accessAllowed ? 'block' : 'none';\n",
              "    })();\n",
              "  </script>\n",
              "</div>\n",
              "    </div>\n",
              "  </div>\n"
            ]
          },
          "metadata": {},
          "execution_count": 6
        }
      ]
    },
    {
      "cell_type": "markdown",
      "source": [
        "## Create train-validation split for training data"
      ],
      "metadata": {
        "id": "7yNMy__z7Ja3"
      }
    },
    {
      "cell_type": "markdown",
      "source": [
        "20% of the training data will be used for validation (and hyperparameter tuning). This means that the overall split of data into train : validation : test is 6 : 2 : 2."
      ],
      "metadata": {
        "id": "MFuj5kUK7asO"
      }
    },
    {
      "cell_type": "code",
      "source": [
        "cleaned_data = cleaned_data[~cleaned_data[\"title\"].isnull()]\n",
        "\n",
        "X_train, X_val, y_train, y_val = train_test_split(\n",
        "    cleaned_data[\"title\"], cleaned_data[\"labels\"], test_size=0.2, shuffle=True, random_state=4222)"
      ],
      "metadata": {
        "id": "Eyo5j4b57Lie"
      },
      "execution_count": 9,
      "outputs": []
    },
    {
      "cell_type": "markdown",
      "source": [
        "# Feature Engineering"
      ],
      "metadata": {
        "id": "GrpTWcPKLfyI"
      }
    },
    {
      "cell_type": "markdown",
      "source": [
        "The features we have chosen for our model are the TF-IDF of unigrams and bigrams. These have proven to be the most effective for our particular use case, based on the validation accuracy that they yield."
      ],
      "metadata": {
        "id": "BP--4Tf9L45y"
      }
    },
    {
      "cell_type": "code",
      "source": [
        "from sklearn.feature_extraction.text import TfidfVectorizer\n",
        "import numpy as np\n",
        "\n",
        "ngram_vectorizer = TfidfVectorizer(ngram_range=(1, 2))\n",
        "X_train_all_ngrams = ngram_vectorizer.fit_transform(X_train)\n",
        "X_val_all_ngrams = ngram_vectorizer.transform(X_val)\n",
        "X_train_all_ngrams = X_train_all_ngrams.todense()\n",
        "X_val_all_ngrams = X_val_all_ngrams.todense()\n",
        "\n",
        "X_train_all_ngrams = np.array(X_train_all_ngrams)\n",
        "X_val_all_ngrams = np.array(X_val_all_ngrams)"
      ],
      "metadata": {
        "id": "swDBwVMkKxPj"
      },
      "execution_count": 10,
      "outputs": []
    },
    {
      "cell_type": "markdown",
      "source": [
        "# Model Training"
      ],
      "metadata": {
        "id": "bXTzBF2AL9uU"
      }
    },
    {
      "cell_type": "markdown",
      "source": [
        "The model that we will be using is a stacked model. The base-learners are Multinomial Naive Bayes, Support Vector Machine, Logistic Regression, and Random Forest. They will all be used to perform classification of sentiment.\n",
        "\n",
        "Our meta-learner of choice is Support Vector Machine. Using the prediction confidence of the base-learners as input, the meta-learner will come up with a single prediction for the final sentiment of the input data."
      ],
      "metadata": {
        "id": "wF5lyKBeMZng"
      }
    },
    {
      "cell_type": "markdown",
      "source": [
        "One thing to note is that the Support Vector Machine does not have prediction probabilities available. To overcome this, the prediction confidence for the predicted class will be 1.0, and the prediction confidence for all other classes will be 0.0."
      ],
      "metadata": {
        "id": "zyrTeEPoNHE2"
      }
    },
    {
      "cell_type": "markdown",
      "source": [
        "## Fine-tuning hyperparameters of base-learners"
      ],
      "metadata": {
        "id": "5_z2CtA8NBUh"
      }
    },
    {
      "cell_type": "markdown",
      "source": [
        "The hyperparameters for the base-learners are fine-tuned over a fixed number of trials, using an external library called `optuna`.\n",
        "\n",
        "First, the hyperparameters to be fine-tuned, and their range of values are maunally chosen in a sensible manner.\n",
        "\n",
        "Next, `optuna` helps to run trials to optimize the hyperparameter values, using a Bayesian Optimization algorithm. In simple terms, a set of hyperparameter values are chosen to be used for each trial, and the area from which these values are chosen is continually updated.\n",
        "\n",
        "The algorithm has been set to maximise the validation accuracy."
      ],
      "metadata": {
        "id": "T80QDemwPooC"
      }
    },
    {
      "cell_type": "markdown",
      "source": [
        "Through previous experiments, only Multinomial Naive Bayes classifier has had significant (>5%) increase in validation accuracy through the hyperparameter finetuning. Hence, we will only be performing the fine-tuning for that base-learner here."
      ],
      "metadata": {
        "id": "pwsleYGzm3nj"
      }
    },
    {
      "cell_type": "code",
      "source": [
        "from sklearn.naive_bayes import MultinomialNB\n",
        "from sklearn.linear_model import SGDClassifier\n",
        "from sklearn.ensemble import RandomForestClassifier\n",
        "from sklearn.metrics import accuracy_score\n",
        "import optuna\n",
        "optuna.logging.set_verbosity(optuna.logging.ERROR)"
      ],
      "metadata": {
        "id": "QLuTq_s1EkXL"
      },
      "execution_count": 7,
      "outputs": []
    },
    {
      "cell_type": "code",
      "source": [
        "def train_model(X_train, X_val, y_train, y_val, model):\n",
        "    \"\"\"Used to train the model and return predictions on validation data\"\"\"\n",
        "\n",
        "    model.fit(X_train, y_train)\n",
        "    y_pred = model.predict(X_val)\n",
        "\n",
        "    return y_pred\n",
        "\n",
        "def objective_MNB(trial, X_train, X_val, y_train, y_val):\n",
        "    \"\"\"Objective function for optuna to use for hyperparameter fine-tuning\"\"\"\n",
        "\n",
        "    params = {\n",
        "        \"alpha\": trial.suggest_float(\"alpha\", 0.01, 1.0),  # additive smoothing parameter\n",
        "    }\n",
        "\n",
        "    y_pred = train_model(X_train, X_val, y_train, y_val, MultinomialNB(**params))\n",
        "\n",
        "    # the return value will be maximised in the optimization algorithm\n",
        "    return accuracy_score(y_val, y_pred)\n"
      ],
      "metadata": {
        "id": "vim9LCjRL9-K"
      },
      "execution_count": 22,
      "outputs": []
    },
    {
      "cell_type": "code",
      "source": [
        "mnb_best_params = None\n",
        "\n",
        "# conduct trials to find best hyperparameters\n",
        "study = optuna.create_study(direction='maximize')\n",
        "study.optimize(lambda trial: objective_MNB(\n",
        "    trial, X_train_all_ngrams, X_val_all_ngrams, y_train, y_val), n_trials=50)\n",
        "\n",
        "# save best hyperparameters\n",
        "mnb_best_params = study.best_params\n",
        "\n",
        "# print validation accuracy obtained using default hyperparameters\n",
        "y_preds = train_model(X_train_all_ngrams, X_val_all_ngrams, y_train, y_val, MultinomialNB())\n",
        "print(\"Default params acc:\", accuracy_score(y_val, y_preds))\n",
        "\n",
        "# print validation accuracy obtained using fine-tuned hyperparameters\n",
        "print(\"Best params:\", mnb_best_params)\n",
        "y_preds_2 = train_model(X_train_all_ngrams, X_val_all_ngrams, y_train, y_val, MultinomialNB(**mnb_best_params))\n",
        "print(\"Best params acc:\", accuracy_score(y_val, y_preds_2))\n",
        "print()"
      ],
      "metadata": {
        "colab": {
          "base_uri": "https://localhost:8080/"
        },
        "id": "KwjAaHl9ORHJ",
        "outputId": "bec2f448-de12-4978-8f6c-2d749ec6c79f"
      },
      "execution_count": 44,
      "outputs": [
        {
          "output_type": "stream",
          "name": "stdout",
          "text": [
            "Default params acc: 0.7200913242009133\n",
            "Best params: {'alpha': 0.13981459419680037}\n",
            "Best params acc: 0.8013698630136986\n",
            "\n"
          ]
        }
      ]
    },
    {
      "cell_type": "code",
      "source": [
        "# mnb_best_params = {'alpha': 0.13981459419680037}"
      ],
      "metadata": {
        "id": "Idlaj4DVEacb"
      },
      "execution_count": 10,
      "outputs": []
    },
    {
      "cell_type": "markdown",
      "source": [
        "Now, we will be training the base-learners using their best/default hyperparameters, to obtain our final base-learners."
      ],
      "metadata": {
        "id": "i8R3I5dLUTTF"
      }
    },
    {
      "cell_type": "code",
      "source": [
        "trained_base_learners = [\n",
        "    MultinomialNB(**mnb_best_params),\n",
        "    SGDClassifier(loss=\"hinge\"),\n",
        "    SGDClassifier(loss=\"log_loss\"),\n",
        "    RandomForestClassifier()\n",
        "]\n",
        "\n",
        "for clf in trained_base_learners:\n",
        "    clf.fit(X_train_all_ngrams, y_train)\n",
        "\n",
        "    preds = clf.predict(X_val_all_ngrams)\n",
        "    print(\"Classifier:\", clf)\n",
        "    print(\"Validation Accuracy:\", accuracy_score(y_val, preds))\n",
        "    print()"
      ],
      "metadata": {
        "id": "RHpy8uCmUS3u",
        "colab": {
          "base_uri": "https://localhost:8080/"
        },
        "outputId": "2c4688ed-635c-4130-8a8f-20b1a380ccd7"
      },
      "execution_count": 19,
      "outputs": [
        {
          "output_type": "stream",
          "name": "stdout",
          "text": [
            "Classifier: MultinomialNB(alpha=0.13981459419680037)\n",
            "Validation Accuracy: 0.8013698630136986\n",
            "\n",
            "Classifier: SGDClassifier()\n",
            "Validation Accuracy: 0.8168949771689498\n",
            "\n",
            "Classifier: SGDClassifier(loss='log_loss')\n",
            "Validation Accuracy: 0.7840182648401827\n",
            "\n",
            "Classifier: RandomForestClassifier()\n",
            "Validation Accuracy: 0.7885844748858447\n",
            "\n"
          ]
        }
      ]
    },
    {
      "cell_type": "markdown",
      "source": [
        "We can see from the above that the Support Vector Machine classifier performed the best, with a 81.689% validation accuracy."
      ],
      "metadata": {
        "id": "IlbZ6oQmw1qY"
      }
    },
    {
      "cell_type": "markdown",
      "source": [
        "## Obtain input for meta-learner"
      ],
      "metadata": {
        "id": "z3Rdy7OKXuby"
      }
    },
    {
      "cell_type": "markdown",
      "source": [
        "The input for the meta-learner will be the prediction probabilities for each classifier for all classes. They will be concatenated together before being fed into the meta-learner."
      ],
      "metadata": {
        "id": "n9CLvuLpXxB6"
      }
    },
    {
      "cell_type": "code",
      "source": [
        "from sklearn.preprocessing import OneHotEncoder\n",
        "\n",
        "def get_proba(clfs, X, prob=1.0):\n",
        "    \"\"\"Get concatenated prediction probabilities for all classes from all classifiers\"\"\"\n",
        "\n",
        "    preds_probs = []\n",
        "    for clf in clfs:\n",
        "        if hasattr(clf, \"predict_proba\"):  # for all classifiers except SVM\n",
        "            preds_probs.append(clf.predict_proba(X))\n",
        "        else:  # for SVM\n",
        "            enc = OneHotEncoder()\n",
        "            # fit encoder with all possible labels\n",
        "            enc.fit(np.expand_dims(np.array([0, 1, 2]), axis=1))\n",
        "            # transform predictions to one-hot encodings to represent their prediction probabilities\n",
        "            preds_probs.append(enc.transform(np.expand_dims(clf.predict(X), axis=1)).toarray() * prob)\n",
        "    collated = np.concatenate(preds_probs, axis=1)\n",
        "    return collated"
      ],
      "metadata": {
        "id": "tAA-3IrfXcyO"
      },
      "execution_count": 15,
      "outputs": []
    },
    {
      "cell_type": "code",
      "source": [
        "# get the train and validation prediction probabilities\n",
        "train_probs = get_proba(trained_base_learners, X_train_all_ngrams)\n",
        "val_probs = get_proba(trained_base_learners, X_val_all_ngrams)"
      ],
      "metadata": {
        "id": "84sj9LONXcRn"
      },
      "execution_count": 28,
      "outputs": []
    },
    {
      "cell_type": "markdown",
      "source": [
        "## Fine-tuning hyperparameters of meta-learner"
      ],
      "metadata": {
        "id": "8jaZtOHuX_-a"
      }
    },
    {
      "cell_type": "markdown",
      "source": [
        "The chosen meta-learner is Support Vector Machine, based on previous trials that have shown that using SVM will result in the best validation accuracy.\n",
        "\n",
        "The hyperparameters of the meta-learner will be fine-tuned in the same way as that for the base-learners, using `optuna`."
      ],
      "metadata": {
        "id": "qwZluTBXYYkY"
      }
    },
    {
      "cell_type": "code",
      "source": [
        "def objective_meta(trial, X_train, X_val, y_train, y_val, clf):\n",
        "    \"\"\"Objective function to be used to optimize the hyperparameters of meta-learner\"\"\"\n",
        "\n",
        "    params = {\n",
        "        \"loss\": \"hinge\",\n",
        "        \"alpha\": trial.suggest_float(\"alpha\", 0.0001, 0.1),  # regularisation parameter\n",
        "        \"max_iter\": trial.suggest_int(\"max_iter\", 1000, 10000),\n",
        "        \"penalty\": trial.suggest_categorical(\"penalty\", [\"l1\", \"l2\", \"elasticnet\"]),\n",
        "    }\n",
        "\n",
        "    model = clf(**params)\n",
        "    model.fit(X_train, y_train)\n",
        "    preds = model.predict(X_val)\n",
        "\n",
        "    return accuracy_score(y_val, preds)"
      ],
      "metadata": {
        "id": "DyAVv62DY2D7"
      },
      "execution_count": 33,
      "outputs": []
    },
    {
      "cell_type": "code",
      "source": [
        "meta_learner = SGDClassifier\n",
        "\n",
        "# conduct trials to find best hyperparameters\n",
        "study = optuna.create_study(direction='maximize')\n",
        "study.optimize(lambda trial: objective_meta(trial, train_probs, val_probs, y_train, y_val, meta_learner), n_trials=500)\n",
        "meta_learner_best_params = study.best_params\n",
        "\n",
        "# print results achieved using default hyperparameters\n",
        "model = meta_learner()\n",
        "model.fit(train_probs, y_train)\n",
        "y_preds = model.predict(val_probs)\n",
        "print(\"Default params acc:\", accuracy_score(y_val, y_preds))\n",
        "\n",
        "# print results achieved using fine-tuned hyperparameters\n",
        "print(\"Best params:\", meta_learner_best_params)\n",
        "model = meta_learner(**meta_learner_best_params)\n",
        "model.fit(train_probs, y_train)\n",
        "y_preds_2 = model.predict(val_probs)\n",
        "print(\"Best params acc:\", accuracy_score(y_val, y_preds_2))"
      ],
      "metadata": {
        "colab": {
          "base_uri": "https://localhost:8080/"
        },
        "id": "_VeLeTrKLcFw",
        "outputId": "3f696c22-fccc-4f91-d5d7-31c63961e7d4"
      },
      "execution_count": 35,
      "outputs": [
        {
          "output_type": "stream",
          "name": "stdout",
          "text": [
            "Default params acc: 0.7945205479452054\n",
            "Best params: {'alpha': 0.004278536844289651, 'max_iter': 7272, 'penalty': 'elasticnet'}\n",
            "Best params acc: 0.8223744292237443\n"
          ]
        }
      ]
    },
    {
      "cell_type": "code",
      "source": [
        "# meta_learner_best_params = {'alpha': 0.004278536844289651, 'max_iter': 7272, 'penalty': 'elasticnet'}"
      ],
      "metadata": {
        "id": "5yJF-3U0Obzv"
      },
      "execution_count": 11,
      "outputs": []
    },
    {
      "cell_type": "markdown",
      "source": [
        "# Testing the Final Model"
      ],
      "metadata": {
        "id": "AxkhqRR7Zw6M"
      }
    },
    {
      "cell_type": "markdown",
      "source": [
        "The test data, which has been unseen by the model, will be used to evaluate the final model performance."
      ],
      "metadata": {
        "id": "-SoG9PGqZ0GW"
      }
    },
    {
      "cell_type": "markdown",
      "source": [
        "## Final training of base- and meta-learners using training and validation data"
      ],
      "metadata": {
        "id": "8DgvZ0QxaSqi"
      }
    },
    {
      "cell_type": "code",
      "source": [
        "from sklearn.feature_extraction.text import TfidfVectorizer\n",
        "import numpy as np\n",
        "\n",
        "# fit final vectorizer using train + validation data\n",
        "ngram_vectorizer = TfidfVectorizer(ngram_range=(1, 2))\n",
        "X_train_final = ngram_vectorizer.fit_transform(cleaned_data[\"title\"]).todense()\n",
        "X_train_final = np.array(X_train_final)\n",
        "\n",
        "y_train_final = cleaned_data[\"labels\"]"
      ],
      "metadata": {
        "id": "w7afML7IXis-"
      },
      "execution_count": 9,
      "outputs": []
    },
    {
      "cell_type": "code",
      "source": [
        "# train all the base-learners using train + validation data\n",
        "trained_base_learners_final = [\n",
        "    MultinomialNB(**mnb_best_params),\n",
        "    SGDClassifier(loss=\"hinge\"),\n",
        "    SGDClassifier(loss=\"log_loss\"),\n",
        "    RandomForestClassifier()\n",
        "]\n",
        "\n",
        "for clf in trained_base_learners_final:\n",
        "    clf.fit(X_train_final, y_train_final)"
      ],
      "metadata": {
        "id": "wi4bPmMLZ_O3"
      },
      "execution_count": 12,
      "outputs": []
    },
    {
      "cell_type": "code",
      "source": [
        "# obtain final train probabilities\n",
        "train_probs_final = get_proba(trained_base_learners_final, X_train_final)"
      ],
      "metadata": {
        "id": "nujLwQNxapyB"
      },
      "execution_count": 16,
      "outputs": []
    },
    {
      "cell_type": "code",
      "source": [
        "# train final meta-learner using train + validation probabilities\n",
        "meta_learner = SGDClassifier\n",
        "trained_meta_learner = meta_learner(**meta_learner_best_params)\n",
        "trained_meta_learner.fit(train_probs_final, y_train_final)"
      ],
      "metadata": {
        "id": "v7Ng3FBQacU4",
        "colab": {
          "base_uri": "https://localhost:8080/",
          "height": 75
        },
        "outputId": "57aa37c0-5128-47b8-bde8-8e13ecf66c56"
      },
      "execution_count": 18,
      "outputs": [
        {
          "output_type": "execute_result",
          "data": {
            "text/plain": [
              "SGDClassifier(alpha=0.004278536844289651, max_iter=7272, penalty='elasticnet')"
            ],
            "text/html": [
              "<style>#sk-container-id-1 {color: black;background-color: white;}#sk-container-id-1 pre{padding: 0;}#sk-container-id-1 div.sk-toggleable {background-color: white;}#sk-container-id-1 label.sk-toggleable__label {cursor: pointer;display: block;width: 100%;margin-bottom: 0;padding: 0.3em;box-sizing: border-box;text-align: center;}#sk-container-id-1 label.sk-toggleable__label-arrow:before {content: \"▸\";float: left;margin-right: 0.25em;color: #696969;}#sk-container-id-1 label.sk-toggleable__label-arrow:hover:before {color: black;}#sk-container-id-1 div.sk-estimator:hover label.sk-toggleable__label-arrow:before {color: black;}#sk-container-id-1 div.sk-toggleable__content {max-height: 0;max-width: 0;overflow: hidden;text-align: left;background-color: #f0f8ff;}#sk-container-id-1 div.sk-toggleable__content pre {margin: 0.2em;color: black;border-radius: 0.25em;background-color: #f0f8ff;}#sk-container-id-1 input.sk-toggleable__control:checked~div.sk-toggleable__content {max-height: 200px;max-width: 100%;overflow: auto;}#sk-container-id-1 input.sk-toggleable__control:checked~label.sk-toggleable__label-arrow:before {content: \"▾\";}#sk-container-id-1 div.sk-estimator input.sk-toggleable__control:checked~label.sk-toggleable__label {background-color: #d4ebff;}#sk-container-id-1 div.sk-label input.sk-toggleable__control:checked~label.sk-toggleable__label {background-color: #d4ebff;}#sk-container-id-1 input.sk-hidden--visually {border: 0;clip: rect(1px 1px 1px 1px);clip: rect(1px, 1px, 1px, 1px);height: 1px;margin: -1px;overflow: hidden;padding: 0;position: absolute;width: 1px;}#sk-container-id-1 div.sk-estimator {font-family: monospace;background-color: #f0f8ff;border: 1px dotted black;border-radius: 0.25em;box-sizing: border-box;margin-bottom: 0.5em;}#sk-container-id-1 div.sk-estimator:hover {background-color: #d4ebff;}#sk-container-id-1 div.sk-parallel-item::after {content: \"\";width: 100%;border-bottom: 1px solid gray;flex-grow: 1;}#sk-container-id-1 div.sk-label:hover label.sk-toggleable__label {background-color: #d4ebff;}#sk-container-id-1 div.sk-serial::before {content: \"\";position: absolute;border-left: 1px solid gray;box-sizing: border-box;top: 0;bottom: 0;left: 50%;z-index: 0;}#sk-container-id-1 div.sk-serial {display: flex;flex-direction: column;align-items: center;background-color: white;padding-right: 0.2em;padding-left: 0.2em;position: relative;}#sk-container-id-1 div.sk-item {position: relative;z-index: 1;}#sk-container-id-1 div.sk-parallel {display: flex;align-items: stretch;justify-content: center;background-color: white;position: relative;}#sk-container-id-1 div.sk-item::before, #sk-container-id-1 div.sk-parallel-item::before {content: \"\";position: absolute;border-left: 1px solid gray;box-sizing: border-box;top: 0;bottom: 0;left: 50%;z-index: -1;}#sk-container-id-1 div.sk-parallel-item {display: flex;flex-direction: column;z-index: 1;position: relative;background-color: white;}#sk-container-id-1 div.sk-parallel-item:first-child::after {align-self: flex-end;width: 50%;}#sk-container-id-1 div.sk-parallel-item:last-child::after {align-self: flex-start;width: 50%;}#sk-container-id-1 div.sk-parallel-item:only-child::after {width: 0;}#sk-container-id-1 div.sk-dashed-wrapped {border: 1px dashed gray;margin: 0 0.4em 0.5em 0.4em;box-sizing: border-box;padding-bottom: 0.4em;background-color: white;}#sk-container-id-1 div.sk-label label {font-family: monospace;font-weight: bold;display: inline-block;line-height: 1.2em;}#sk-container-id-1 div.sk-label-container {text-align: center;}#sk-container-id-1 div.sk-container {/* jupyter's `normalize.less` sets `[hidden] { display: none; }` but bootstrap.min.css set `[hidden] { display: none !important; }` so we also need the `!important` here to be able to override the default hidden behavior on the sphinx rendered scikit-learn.org. See: https://github.com/scikit-learn/scikit-learn/issues/21755 */display: inline-block !important;position: relative;}#sk-container-id-1 div.sk-text-repr-fallback {display: none;}</style><div id=\"sk-container-id-1\" class=\"sk-top-container\"><div class=\"sk-text-repr-fallback\"><pre>SGDClassifier(alpha=0.004278536844289651, max_iter=7272, penalty=&#x27;elasticnet&#x27;)</pre><b>In a Jupyter environment, please rerun this cell to show the HTML representation or trust the notebook. <br />On GitHub, the HTML representation is unable to render, please try loading this page with nbviewer.org.</b></div><div class=\"sk-container\" hidden><div class=\"sk-item\"><div class=\"sk-estimator sk-toggleable\"><input class=\"sk-toggleable__control sk-hidden--visually\" id=\"sk-estimator-id-1\" type=\"checkbox\" checked><label for=\"sk-estimator-id-1\" class=\"sk-toggleable__label sk-toggleable__label-arrow\">SGDClassifier</label><div class=\"sk-toggleable__content\"><pre>SGDClassifier(alpha=0.004278536844289651, max_iter=7272, penalty=&#x27;elasticnet&#x27;)</pre></div></div></div></div></div>"
            ]
          },
          "metadata": {},
          "execution_count": 18
        }
      ]
    },
    {
      "cell_type": "markdown",
      "source": [
        "## Save final models"
      ],
      "metadata": {
        "id": "GB_uJ4mjCS4r"
      }
    },
    {
      "cell_type": "markdown",
      "source": [
        "The final models and vectorizer are pickled, so they can be loaded any time for future use."
      ],
      "metadata": {
        "id": "xYuA9l4yDSzq"
      }
    },
    {
      "cell_type": "code",
      "source": [
        "import pickle\n",
        "import os\n",
        "\n",
        "dir = \"/content/gdrive/My Drive/BT4222/Simple Models\"\n",
        "\n",
        "pickle.dump(trained_base_learners_final[0], open(os.path.join(dir, \"BL_MNB.pkl\"), 'wb'))\n",
        "pickle.dump(trained_base_learners_final[1], open(os.path.join(dir, \"BL_SVM.pkl\"), 'wb'))\n",
        "pickle.dump(trained_base_learners_final[2], open(os.path.join(dir, \"BL_LR.pkl\"), 'wb'))\n",
        "pickle.dump(trained_base_learners_final[3], open(os.path.join(dir, \"BL_RF.pkl\"), 'wb'))\n",
        "pickle.dump(trained_meta_learner, open(os.path.join(dir, \"ML_SVM.pkl\"), 'wb'))\n",
        "pickle.dump(ngram_vectorizer, open(os.path.join(dir, \"vectorizer.pkl\"), 'wb'))"
      ],
      "metadata": {
        "id": "1uJPL087CUgS"
      },
      "execution_count": 40,
      "outputs": []
    },
    {
      "cell_type": "markdown",
      "source": [
        "## Pre-processing and feature extraction of test data"
      ],
      "metadata": {
        "id": "OOdP2wwza2Fq"
      }
    },
    {
      "cell_type": "markdown",
      "source": [
        "The processes here are the same as those that were performed on the train and validation data above. First, the data is cleaned, then the entities are detected, then the features for model input are extracted."
      ],
      "metadata": {
        "id": "worJq2NwyZ8S"
      }
    },
    {
      "cell_type": "code",
      "source": [
        "# cleaning the test data\n",
        "test_data = test_data_original.copy()\n",
        "regex_cleanup(test_data)\n",
        "test_data[\"title\"] = test_data[\"title\"].apply(remove_non_english)\n",
        "test_data.replace(\"\", float(\"NaN\"), inplace=True)\n",
        "test_data.dropna(inplace=True)"
      ],
      "metadata": {
        "id": "GIeG8QuO9Nwa"
      },
      "execution_count": 24,
      "outputs": []
    },
    {
      "cell_type": "code",
      "source": [
        "# peforming NER on test data\n",
        "test_data['NER'] = test_data['title'].apply(perform_ner)\n",
        "spacy_results = test_data.NER.tolist()\n",
        "tests = test_data.title.tolist()\n",
        "bert_results = BERT_NER(tests)\n",
        "NER_col_results = combine_results(spacy_results, bert_results)\n",
        "test_data['Entities'] = NER_col_results\n",
        "\n",
        "test_data.head()"
      ],
      "metadata": {
        "colab": {
          "base_uri": "https://localhost:8080/",
          "height": 206
        },
        "id": "pYYpY9ar_VDu",
        "outputId": "9b453527-109a-4694-ff4c-4ed66b997e46"
      },
      "execution_count": 25,
      "outputs": [
        {
          "output_type": "execute_result",
          "data": {
            "text/plain": [
              "                                                  title  labels  \\\n",
              "3046          Mimecast after downside Q EBITDA forecast       0   \n",
              "9421         Platts Commodity Charts To Watch This Week       1   \n",
              "8597  Atlantic Storm Poised to Send Europe to New Wi...       1   \n",
              "8918    Frances Top Female CEO Becomes a Stranded Asset       1   \n",
              "9066  Highlight Carnival CEO Arnold W Donald discuss...       1   \n",
              "\n",
              "                           NER                                  Entities  \n",
              "3046                        []                                  [EBITDA]  \n",
              "9421                        []                        [Platts Commodity]  \n",
              "8597  [New Wind Power Records]  [Atlantic Storm, New Wind Power Records]  \n",
              "8918                        []                      No Entity Recognised  \n",
              "9066                        []                      [Highlight Carnival]  "
            ],
            "text/html": [
              "\n",
              "  <div id=\"df-d621fcab-dc45-40c8-b05a-2d807bcb1a71\" class=\"colab-df-container\">\n",
              "    <div>\n",
              "<style scoped>\n",
              "    .dataframe tbody tr th:only-of-type {\n",
              "        vertical-align: middle;\n",
              "    }\n",
              "\n",
              "    .dataframe tbody tr th {\n",
              "        vertical-align: top;\n",
              "    }\n",
              "\n",
              "    .dataframe thead th {\n",
              "        text-align: right;\n",
              "    }\n",
              "</style>\n",
              "<table border=\"1\" class=\"dataframe\">\n",
              "  <thead>\n",
              "    <tr style=\"text-align: right;\">\n",
              "      <th></th>\n",
              "      <th>title</th>\n",
              "      <th>labels</th>\n",
              "      <th>NER</th>\n",
              "      <th>Entities</th>\n",
              "    </tr>\n",
              "  </thead>\n",
              "  <tbody>\n",
              "    <tr>\n",
              "      <th>3046</th>\n",
              "      <td>Mimecast after downside Q EBITDA forecast</td>\n",
              "      <td>0</td>\n",
              "      <td>[]</td>\n",
              "      <td>[EBITDA]</td>\n",
              "    </tr>\n",
              "    <tr>\n",
              "      <th>9421</th>\n",
              "      <td>Platts Commodity Charts To Watch This Week</td>\n",
              "      <td>1</td>\n",
              "      <td>[]</td>\n",
              "      <td>[Platts Commodity]</td>\n",
              "    </tr>\n",
              "    <tr>\n",
              "      <th>8597</th>\n",
              "      <td>Atlantic Storm Poised to Send Europe to New Wi...</td>\n",
              "      <td>1</td>\n",
              "      <td>[New Wind Power Records]</td>\n",
              "      <td>[Atlantic Storm, New Wind Power Records]</td>\n",
              "    </tr>\n",
              "    <tr>\n",
              "      <th>8918</th>\n",
              "      <td>Frances Top Female CEO Becomes a Stranded Asset</td>\n",
              "      <td>1</td>\n",
              "      <td>[]</td>\n",
              "      <td>No Entity Recognised</td>\n",
              "    </tr>\n",
              "    <tr>\n",
              "      <th>9066</th>\n",
              "      <td>Highlight Carnival CEO Arnold W Donald discuss...</td>\n",
              "      <td>1</td>\n",
              "      <td>[]</td>\n",
              "      <td>[Highlight Carnival]</td>\n",
              "    </tr>\n",
              "  </tbody>\n",
              "</table>\n",
              "</div>\n",
              "    <div class=\"colab-df-buttons\">\n",
              "\n",
              "  <div class=\"colab-df-container\">\n",
              "    <button class=\"colab-df-convert\" onclick=\"convertToInteractive('df-d621fcab-dc45-40c8-b05a-2d807bcb1a71')\"\n",
              "            title=\"Convert this dataframe to an interactive table.\"\n",
              "            style=\"display:none;\">\n",
              "\n",
              "  <svg xmlns=\"http://www.w3.org/2000/svg\" height=\"24px\" viewBox=\"0 -960 960 960\">\n",
              "    <path d=\"M120-120v-720h720v720H120Zm60-500h600v-160H180v160Zm220 220h160v-160H400v160Zm0 220h160v-160H400v160ZM180-400h160v-160H180v160Zm440 0h160v-160H620v160ZM180-180h160v-160H180v160Zm440 0h160v-160H620v160Z\"/>\n",
              "  </svg>\n",
              "    </button>\n",
              "\n",
              "  <style>\n",
              "    .colab-df-container {\n",
              "      display:flex;\n",
              "      gap: 12px;\n",
              "    }\n",
              "\n",
              "    .colab-df-convert {\n",
              "      background-color: #E8F0FE;\n",
              "      border: none;\n",
              "      border-radius: 50%;\n",
              "      cursor: pointer;\n",
              "      display: none;\n",
              "      fill: #1967D2;\n",
              "      height: 32px;\n",
              "      padding: 0 0 0 0;\n",
              "      width: 32px;\n",
              "    }\n",
              "\n",
              "    .colab-df-convert:hover {\n",
              "      background-color: #E2EBFA;\n",
              "      box-shadow: 0px 1px 2px rgba(60, 64, 67, 0.3), 0px 1px 3px 1px rgba(60, 64, 67, 0.15);\n",
              "      fill: #174EA6;\n",
              "    }\n",
              "\n",
              "    .colab-df-buttons div {\n",
              "      margin-bottom: 4px;\n",
              "    }\n",
              "\n",
              "    [theme=dark] .colab-df-convert {\n",
              "      background-color: #3B4455;\n",
              "      fill: #D2E3FC;\n",
              "    }\n",
              "\n",
              "    [theme=dark] .colab-df-convert:hover {\n",
              "      background-color: #434B5C;\n",
              "      box-shadow: 0px 1px 3px 1px rgba(0, 0, 0, 0.15);\n",
              "      filter: drop-shadow(0px 1px 2px rgba(0, 0, 0, 0.3));\n",
              "      fill: #FFFFFF;\n",
              "    }\n",
              "  </style>\n",
              "\n",
              "    <script>\n",
              "      const buttonEl =\n",
              "        document.querySelector('#df-d621fcab-dc45-40c8-b05a-2d807bcb1a71 button.colab-df-convert');\n",
              "      buttonEl.style.display =\n",
              "        google.colab.kernel.accessAllowed ? 'block' : 'none';\n",
              "\n",
              "      async function convertToInteractive(key) {\n",
              "        const element = document.querySelector('#df-d621fcab-dc45-40c8-b05a-2d807bcb1a71');\n",
              "        const dataTable =\n",
              "          await google.colab.kernel.invokeFunction('convertToInteractive',\n",
              "                                                    [key], {});\n",
              "        if (!dataTable) return;\n",
              "\n",
              "        const docLinkHtml = 'Like what you see? Visit the ' +\n",
              "          '<a target=\"_blank\" href=https://colab.research.google.com/notebooks/data_table.ipynb>data table notebook</a>'\n",
              "          + ' to learn more about interactive tables.';\n",
              "        element.innerHTML = '';\n",
              "        dataTable['output_type'] = 'display_data';\n",
              "        await google.colab.output.renderOutput(dataTable, element);\n",
              "        const docLink = document.createElement('div');\n",
              "        docLink.innerHTML = docLinkHtml;\n",
              "        element.appendChild(docLink);\n",
              "      }\n",
              "    </script>\n",
              "  </div>\n",
              "\n",
              "\n",
              "<div id=\"df-8c33e86f-6f87-4625-b60e-5049d0026ab4\">\n",
              "  <button class=\"colab-df-quickchart\" onclick=\"quickchart('df-8c33e86f-6f87-4625-b60e-5049d0026ab4')\"\n",
              "            title=\"Suggest charts\"\n",
              "            style=\"display:none;\">\n",
              "\n",
              "<svg xmlns=\"http://www.w3.org/2000/svg\" height=\"24px\"viewBox=\"0 0 24 24\"\n",
              "     width=\"24px\">\n",
              "    <g>\n",
              "        <path d=\"M19 3H5c-1.1 0-2 .9-2 2v14c0 1.1.9 2 2 2h14c1.1 0 2-.9 2-2V5c0-1.1-.9-2-2-2zM9 17H7v-7h2v7zm4 0h-2V7h2v10zm4 0h-2v-4h2v4z\"/>\n",
              "    </g>\n",
              "</svg>\n",
              "  </button>\n",
              "\n",
              "<style>\n",
              "  .colab-df-quickchart {\n",
              "      --bg-color: #E8F0FE;\n",
              "      --fill-color: #1967D2;\n",
              "      --hover-bg-color: #E2EBFA;\n",
              "      --hover-fill-color: #174EA6;\n",
              "      --disabled-fill-color: #AAA;\n",
              "      --disabled-bg-color: #DDD;\n",
              "  }\n",
              "\n",
              "  [theme=dark] .colab-df-quickchart {\n",
              "      --bg-color: #3B4455;\n",
              "      --fill-color: #D2E3FC;\n",
              "      --hover-bg-color: #434B5C;\n",
              "      --hover-fill-color: #FFFFFF;\n",
              "      --disabled-bg-color: #3B4455;\n",
              "      --disabled-fill-color: #666;\n",
              "  }\n",
              "\n",
              "  .colab-df-quickchart {\n",
              "    background-color: var(--bg-color);\n",
              "    border: none;\n",
              "    border-radius: 50%;\n",
              "    cursor: pointer;\n",
              "    display: none;\n",
              "    fill: var(--fill-color);\n",
              "    height: 32px;\n",
              "    padding: 0;\n",
              "    width: 32px;\n",
              "  }\n",
              "\n",
              "  .colab-df-quickchart:hover {\n",
              "    background-color: var(--hover-bg-color);\n",
              "    box-shadow: 0 1px 2px rgba(60, 64, 67, 0.3), 0 1px 3px 1px rgba(60, 64, 67, 0.15);\n",
              "    fill: var(--button-hover-fill-color);\n",
              "  }\n",
              "\n",
              "  .colab-df-quickchart-complete:disabled,\n",
              "  .colab-df-quickchart-complete:disabled:hover {\n",
              "    background-color: var(--disabled-bg-color);\n",
              "    fill: var(--disabled-fill-color);\n",
              "    box-shadow: none;\n",
              "  }\n",
              "\n",
              "  .colab-df-spinner {\n",
              "    border: 2px solid var(--fill-color);\n",
              "    border-color: transparent;\n",
              "    border-bottom-color: var(--fill-color);\n",
              "    animation:\n",
              "      spin 1s steps(1) infinite;\n",
              "  }\n",
              "\n",
              "  @keyframes spin {\n",
              "    0% {\n",
              "      border-color: transparent;\n",
              "      border-bottom-color: var(--fill-color);\n",
              "      border-left-color: var(--fill-color);\n",
              "    }\n",
              "    20% {\n",
              "      border-color: transparent;\n",
              "      border-left-color: var(--fill-color);\n",
              "      border-top-color: var(--fill-color);\n",
              "    }\n",
              "    30% {\n",
              "      border-color: transparent;\n",
              "      border-left-color: var(--fill-color);\n",
              "      border-top-color: var(--fill-color);\n",
              "      border-right-color: var(--fill-color);\n",
              "    }\n",
              "    40% {\n",
              "      border-color: transparent;\n",
              "      border-right-color: var(--fill-color);\n",
              "      border-top-color: var(--fill-color);\n",
              "    }\n",
              "    60% {\n",
              "      border-color: transparent;\n",
              "      border-right-color: var(--fill-color);\n",
              "    }\n",
              "    80% {\n",
              "      border-color: transparent;\n",
              "      border-right-color: var(--fill-color);\n",
              "      border-bottom-color: var(--fill-color);\n",
              "    }\n",
              "    90% {\n",
              "      border-color: transparent;\n",
              "      border-bottom-color: var(--fill-color);\n",
              "    }\n",
              "  }\n",
              "</style>\n",
              "\n",
              "  <script>\n",
              "    async function quickchart(key) {\n",
              "      const quickchartButtonEl =\n",
              "        document.querySelector('#' + key + ' button');\n",
              "      quickchartButtonEl.disabled = true;  // To prevent multiple clicks.\n",
              "      quickchartButtonEl.classList.add('colab-df-spinner');\n",
              "      try {\n",
              "        const charts = await google.colab.kernel.invokeFunction(\n",
              "            'suggestCharts', [key], {});\n",
              "      } catch (error) {\n",
              "        console.error('Error during call to suggestCharts:', error);\n",
              "      }\n",
              "      quickchartButtonEl.classList.remove('colab-df-spinner');\n",
              "      quickchartButtonEl.classList.add('colab-df-quickchart-complete');\n",
              "    }\n",
              "    (() => {\n",
              "      let quickchartButtonEl =\n",
              "        document.querySelector('#df-8c33e86f-6f87-4625-b60e-5049d0026ab4 button');\n",
              "      quickchartButtonEl.style.display =\n",
              "        google.colab.kernel.accessAllowed ? 'block' : 'none';\n",
              "    })();\n",
              "  </script>\n",
              "</div>\n",
              "    </div>\n",
              "  </div>\n"
            ]
          },
          "metadata": {},
          "execution_count": 25
        }
      ]
    },
    {
      "cell_type": "code",
      "source": [
        "# test_data.to_csv(\"/content/gdrive/My Drive/BT4222/test_data_NER.csv\")"
      ],
      "metadata": {
        "id": "Eo5cLDgVffw3"
      },
      "execution_count": 26,
      "outputs": []
    },
    {
      "cell_type": "code",
      "source": [
        "# lemmatize titles\n",
        "test_data = test_data.reset_index()\n",
        "test_data[\"title\"] = pd.Series(lemmatize_dataset(test_data[\"title\"]))\n",
        "\n",
        "test_data.head()"
      ],
      "metadata": {
        "colab": {
          "base_uri": "https://localhost:8080/",
          "height": 206
        },
        "id": "WfIEFjn3_y5K",
        "outputId": "90bb92ee-8f5e-45ef-d4ad-9f60d55a19f6"
      },
      "execution_count": 27,
      "outputs": [
        {
          "output_type": "execute_result",
          "data": {
            "text/plain": [
              "   index                                              title  labels  \\\n",
              "0   3046          mimecast after downside q ebitda forecast       0   \n",
              "1   9421          platts commodity chart to watch this week       1   \n",
              "2   8597  atlantic storm poised to send europe to new wi...       1   \n",
              "3   8918     france top female ceo becomes a stranded asset       1   \n",
              "4   9066  highlight carnival ceo arnold w donald discus ...       1   \n",
              "\n",
              "                        NER                                  Entities  \n",
              "0                        []                                  [EBITDA]  \n",
              "1                        []                        [Platts Commodity]  \n",
              "2  [New Wind Power Records]  [Atlantic Storm, New Wind Power Records]  \n",
              "3                        []                      No Entity Recognised  \n",
              "4                        []                      [Highlight Carnival]  "
            ],
            "text/html": [
              "\n",
              "  <div id=\"df-6db493ca-f22f-425f-92fb-def749944316\" class=\"colab-df-container\">\n",
              "    <div>\n",
              "<style scoped>\n",
              "    .dataframe tbody tr th:only-of-type {\n",
              "        vertical-align: middle;\n",
              "    }\n",
              "\n",
              "    .dataframe tbody tr th {\n",
              "        vertical-align: top;\n",
              "    }\n",
              "\n",
              "    .dataframe thead th {\n",
              "        text-align: right;\n",
              "    }\n",
              "</style>\n",
              "<table border=\"1\" class=\"dataframe\">\n",
              "  <thead>\n",
              "    <tr style=\"text-align: right;\">\n",
              "      <th></th>\n",
              "      <th>index</th>\n",
              "      <th>title</th>\n",
              "      <th>labels</th>\n",
              "      <th>NER</th>\n",
              "      <th>Entities</th>\n",
              "    </tr>\n",
              "  </thead>\n",
              "  <tbody>\n",
              "    <tr>\n",
              "      <th>0</th>\n",
              "      <td>3046</td>\n",
              "      <td>mimecast after downside q ebitda forecast</td>\n",
              "      <td>0</td>\n",
              "      <td>[]</td>\n",
              "      <td>[EBITDA]</td>\n",
              "    </tr>\n",
              "    <tr>\n",
              "      <th>1</th>\n",
              "      <td>9421</td>\n",
              "      <td>platts commodity chart to watch this week</td>\n",
              "      <td>1</td>\n",
              "      <td>[]</td>\n",
              "      <td>[Platts Commodity]</td>\n",
              "    </tr>\n",
              "    <tr>\n",
              "      <th>2</th>\n",
              "      <td>8597</td>\n",
              "      <td>atlantic storm poised to send europe to new wi...</td>\n",
              "      <td>1</td>\n",
              "      <td>[New Wind Power Records]</td>\n",
              "      <td>[Atlantic Storm, New Wind Power Records]</td>\n",
              "    </tr>\n",
              "    <tr>\n",
              "      <th>3</th>\n",
              "      <td>8918</td>\n",
              "      <td>france top female ceo becomes a stranded asset</td>\n",
              "      <td>1</td>\n",
              "      <td>[]</td>\n",
              "      <td>No Entity Recognised</td>\n",
              "    </tr>\n",
              "    <tr>\n",
              "      <th>4</th>\n",
              "      <td>9066</td>\n",
              "      <td>highlight carnival ceo arnold w donald discus ...</td>\n",
              "      <td>1</td>\n",
              "      <td>[]</td>\n",
              "      <td>[Highlight Carnival]</td>\n",
              "    </tr>\n",
              "  </tbody>\n",
              "</table>\n",
              "</div>\n",
              "    <div class=\"colab-df-buttons\">\n",
              "\n",
              "  <div class=\"colab-df-container\">\n",
              "    <button class=\"colab-df-convert\" onclick=\"convertToInteractive('df-6db493ca-f22f-425f-92fb-def749944316')\"\n",
              "            title=\"Convert this dataframe to an interactive table.\"\n",
              "            style=\"display:none;\">\n",
              "\n",
              "  <svg xmlns=\"http://www.w3.org/2000/svg\" height=\"24px\" viewBox=\"0 -960 960 960\">\n",
              "    <path d=\"M120-120v-720h720v720H120Zm60-500h600v-160H180v160Zm220 220h160v-160H400v160Zm0 220h160v-160H400v160ZM180-400h160v-160H180v160Zm440 0h160v-160H620v160ZM180-180h160v-160H180v160Zm440 0h160v-160H620v160Z\"/>\n",
              "  </svg>\n",
              "    </button>\n",
              "\n",
              "  <style>\n",
              "    .colab-df-container {\n",
              "      display:flex;\n",
              "      gap: 12px;\n",
              "    }\n",
              "\n",
              "    .colab-df-convert {\n",
              "      background-color: #E8F0FE;\n",
              "      border: none;\n",
              "      border-radius: 50%;\n",
              "      cursor: pointer;\n",
              "      display: none;\n",
              "      fill: #1967D2;\n",
              "      height: 32px;\n",
              "      padding: 0 0 0 0;\n",
              "      width: 32px;\n",
              "    }\n",
              "\n",
              "    .colab-df-convert:hover {\n",
              "      background-color: #E2EBFA;\n",
              "      box-shadow: 0px 1px 2px rgba(60, 64, 67, 0.3), 0px 1px 3px 1px rgba(60, 64, 67, 0.15);\n",
              "      fill: #174EA6;\n",
              "    }\n",
              "\n",
              "    .colab-df-buttons div {\n",
              "      margin-bottom: 4px;\n",
              "    }\n",
              "\n",
              "    [theme=dark] .colab-df-convert {\n",
              "      background-color: #3B4455;\n",
              "      fill: #D2E3FC;\n",
              "    }\n",
              "\n",
              "    [theme=dark] .colab-df-convert:hover {\n",
              "      background-color: #434B5C;\n",
              "      box-shadow: 0px 1px 3px 1px rgba(0, 0, 0, 0.15);\n",
              "      filter: drop-shadow(0px 1px 2px rgba(0, 0, 0, 0.3));\n",
              "      fill: #FFFFFF;\n",
              "    }\n",
              "  </style>\n",
              "\n",
              "    <script>\n",
              "      const buttonEl =\n",
              "        document.querySelector('#df-6db493ca-f22f-425f-92fb-def749944316 button.colab-df-convert');\n",
              "      buttonEl.style.display =\n",
              "        google.colab.kernel.accessAllowed ? 'block' : 'none';\n",
              "\n",
              "      async function convertToInteractive(key) {\n",
              "        const element = document.querySelector('#df-6db493ca-f22f-425f-92fb-def749944316');\n",
              "        const dataTable =\n",
              "          await google.colab.kernel.invokeFunction('convertToInteractive',\n",
              "                                                    [key], {});\n",
              "        if (!dataTable) return;\n",
              "\n",
              "        const docLinkHtml = 'Like what you see? Visit the ' +\n",
              "          '<a target=\"_blank\" href=https://colab.research.google.com/notebooks/data_table.ipynb>data table notebook</a>'\n",
              "          + ' to learn more about interactive tables.';\n",
              "        element.innerHTML = '';\n",
              "        dataTable['output_type'] = 'display_data';\n",
              "        await google.colab.output.renderOutput(dataTable, element);\n",
              "        const docLink = document.createElement('div');\n",
              "        docLink.innerHTML = docLinkHtml;\n",
              "        element.appendChild(docLink);\n",
              "      }\n",
              "    </script>\n",
              "  </div>\n",
              "\n",
              "\n",
              "<div id=\"df-1ff8adde-39a3-4f64-a661-9cb9448c8d38\">\n",
              "  <button class=\"colab-df-quickchart\" onclick=\"quickchart('df-1ff8adde-39a3-4f64-a661-9cb9448c8d38')\"\n",
              "            title=\"Suggest charts\"\n",
              "            style=\"display:none;\">\n",
              "\n",
              "<svg xmlns=\"http://www.w3.org/2000/svg\" height=\"24px\"viewBox=\"0 0 24 24\"\n",
              "     width=\"24px\">\n",
              "    <g>\n",
              "        <path d=\"M19 3H5c-1.1 0-2 .9-2 2v14c0 1.1.9 2 2 2h14c1.1 0 2-.9 2-2V5c0-1.1-.9-2-2-2zM9 17H7v-7h2v7zm4 0h-2V7h2v10zm4 0h-2v-4h2v4z\"/>\n",
              "    </g>\n",
              "</svg>\n",
              "  </button>\n",
              "\n",
              "<style>\n",
              "  .colab-df-quickchart {\n",
              "      --bg-color: #E8F0FE;\n",
              "      --fill-color: #1967D2;\n",
              "      --hover-bg-color: #E2EBFA;\n",
              "      --hover-fill-color: #174EA6;\n",
              "      --disabled-fill-color: #AAA;\n",
              "      --disabled-bg-color: #DDD;\n",
              "  }\n",
              "\n",
              "  [theme=dark] .colab-df-quickchart {\n",
              "      --bg-color: #3B4455;\n",
              "      --fill-color: #D2E3FC;\n",
              "      --hover-bg-color: #434B5C;\n",
              "      --hover-fill-color: #FFFFFF;\n",
              "      --disabled-bg-color: #3B4455;\n",
              "      --disabled-fill-color: #666;\n",
              "  }\n",
              "\n",
              "  .colab-df-quickchart {\n",
              "    background-color: var(--bg-color);\n",
              "    border: none;\n",
              "    border-radius: 50%;\n",
              "    cursor: pointer;\n",
              "    display: none;\n",
              "    fill: var(--fill-color);\n",
              "    height: 32px;\n",
              "    padding: 0;\n",
              "    width: 32px;\n",
              "  }\n",
              "\n",
              "  .colab-df-quickchart:hover {\n",
              "    background-color: var(--hover-bg-color);\n",
              "    box-shadow: 0 1px 2px rgba(60, 64, 67, 0.3), 0 1px 3px 1px rgba(60, 64, 67, 0.15);\n",
              "    fill: var(--button-hover-fill-color);\n",
              "  }\n",
              "\n",
              "  .colab-df-quickchart-complete:disabled,\n",
              "  .colab-df-quickchart-complete:disabled:hover {\n",
              "    background-color: var(--disabled-bg-color);\n",
              "    fill: var(--disabled-fill-color);\n",
              "    box-shadow: none;\n",
              "  }\n",
              "\n",
              "  .colab-df-spinner {\n",
              "    border: 2px solid var(--fill-color);\n",
              "    border-color: transparent;\n",
              "    border-bottom-color: var(--fill-color);\n",
              "    animation:\n",
              "      spin 1s steps(1) infinite;\n",
              "  }\n",
              "\n",
              "  @keyframes spin {\n",
              "    0% {\n",
              "      border-color: transparent;\n",
              "      border-bottom-color: var(--fill-color);\n",
              "      border-left-color: var(--fill-color);\n",
              "    }\n",
              "    20% {\n",
              "      border-color: transparent;\n",
              "      border-left-color: var(--fill-color);\n",
              "      border-top-color: var(--fill-color);\n",
              "    }\n",
              "    30% {\n",
              "      border-color: transparent;\n",
              "      border-left-color: var(--fill-color);\n",
              "      border-top-color: var(--fill-color);\n",
              "      border-right-color: var(--fill-color);\n",
              "    }\n",
              "    40% {\n",
              "      border-color: transparent;\n",
              "      border-right-color: var(--fill-color);\n",
              "      border-top-color: var(--fill-color);\n",
              "    }\n",
              "    60% {\n",
              "      border-color: transparent;\n",
              "      border-right-color: var(--fill-color);\n",
              "    }\n",
              "    80% {\n",
              "      border-color: transparent;\n",
              "      border-right-color: var(--fill-color);\n",
              "      border-bottom-color: var(--fill-color);\n",
              "    }\n",
              "    90% {\n",
              "      border-color: transparent;\n",
              "      border-bottom-color: var(--fill-color);\n",
              "    }\n",
              "  }\n",
              "</style>\n",
              "\n",
              "  <script>\n",
              "    async function quickchart(key) {\n",
              "      const quickchartButtonEl =\n",
              "        document.querySelector('#' + key + ' button');\n",
              "      quickchartButtonEl.disabled = true;  // To prevent multiple clicks.\n",
              "      quickchartButtonEl.classList.add('colab-df-spinner');\n",
              "      try {\n",
              "        const charts = await google.colab.kernel.invokeFunction(\n",
              "            'suggestCharts', [key], {});\n",
              "      } catch (error) {\n",
              "        console.error('Error during call to suggestCharts:', error);\n",
              "      }\n",
              "      quickchartButtonEl.classList.remove('colab-df-spinner');\n",
              "      quickchartButtonEl.classList.add('colab-df-quickchart-complete');\n",
              "    }\n",
              "    (() => {\n",
              "      let quickchartButtonEl =\n",
              "        document.querySelector('#df-1ff8adde-39a3-4f64-a661-9cb9448c8d38 button');\n",
              "      quickchartButtonEl.style.display =\n",
              "        google.colab.kernel.accessAllowed ? 'block' : 'none';\n",
              "    })();\n",
              "  </script>\n",
              "</div>\n",
              "    </div>\n",
              "  </div>\n"
            ]
          },
          "metadata": {},
          "execution_count": 27
        }
      ]
    },
    {
      "cell_type": "code",
      "source": [
        "# set the X and y test variables\n",
        "X_test = test_data[\"title\"]\n",
        "y_test = test_data[\"labels\"]"
      ],
      "metadata": {
        "id": "X13nZ3KE_rt-"
      },
      "execution_count": 28,
      "outputs": []
    },
    {
      "cell_type": "code",
      "source": [
        "# feature extraction from test data\n",
        "X_test_all_ngrams = ngram_vectorizer.transform(X_test)\n",
        "X_test_all_ngrams = X_test_all_ngrams.todense()\n",
        "X_test_all_ngrams = np.array(X_test_all_ngrams)"
      ],
      "metadata": {
        "id": "ZONWKhzUa11B"
      },
      "execution_count": 29,
      "outputs": []
    },
    {
      "cell_type": "markdown",
      "source": [
        "## Obtaining predictions from test data"
      ],
      "metadata": {
        "id": "Pzt1_GPMAycM"
      }
    },
    {
      "cell_type": "markdown",
      "source": [
        "The extracted features will be fed into the base-learners. The prediction probability outputs from the base-learners will then be fed into the meta-learner for the final prediction"
      ],
      "metadata": {
        "id": "mchDR1rBzAs3"
      }
    },
    {
      "cell_type": "code",
      "source": [
        "# preliminary test accuracies using each of the base-learners (benchmark)\n",
        "for clf in trained_base_learners_final:\n",
        "    preds = clf.predict(X_test_all_ngrams)\n",
        "    print(\"Classifier:\", clf)\n",
        "    print(\"Test Accuracy:\", accuracy_score(y_test, preds))\n",
        "    print()"
      ],
      "metadata": {
        "colab": {
          "base_uri": "https://localhost:8080/"
        },
        "id": "XrhXmeBPy0sV",
        "outputId": "3d0d80e8-5b36-4d0e-80f7-17f633b82218"
      },
      "execution_count": 109,
      "outputs": [
        {
          "output_type": "stream",
          "name": "stdout",
          "text": [
            "Classifier: MultinomialNB(alpha=0.13981459419680037)\n",
            "Test Accuracy: 0.7775748721694667\n",
            "\n",
            "Classifier: SGDClassifier()\n",
            "Test Accuracy: 0.8005843681519357\n",
            "\n",
            "Classifier: SGDClassifier(loss='log_loss')\n",
            "Test Accuracy: 0.7593133674214755\n",
            "\n",
            "Classifier: RandomForestClassifier()\n",
            "Test Accuracy: 0.7815924032140248\n",
            "\n"
          ]
        }
      ]
    },
    {
      "cell_type": "code",
      "source": [
        "# getting base-learner prediction probabilities\n",
        "test_probs = get_proba(trained_base_learners_final, X_test_all_ngrams)"
      ],
      "metadata": {
        "id": "ia1J3PTjbT1P"
      },
      "execution_count": 31,
      "outputs": []
    },
    {
      "cell_type": "code",
      "source": [
        "# get final prediction\n",
        "y_preds = trained_meta_learner.predict(test_probs)"
      ],
      "metadata": {
        "id": "57iLJDK-bqAY"
      },
      "execution_count": 32,
      "outputs": []
    },
    {
      "cell_type": "markdown",
      "source": [
        "## Evaluation of test predictions"
      ],
      "metadata": {
        "id": "KXBELk3Zb5fM"
      }
    },
    {
      "cell_type": "markdown",
      "source": [
        "For the final model evaluation, we will be using a range of different metrics, so as to obtain a fair and holistic assessment of our model performance."
      ],
      "metadata": {
        "id": "B4DiKCmgzPJB"
      }
    },
    {
      "cell_type": "code",
      "source": [
        "from sklearn.metrics import (precision_score, recall_score, f1_score,\n",
        "                             confusion_matrix, ConfusionMatrixDisplay)\n",
        "\n",
        "print(\"Accuracy:\", accuracy_score(y_test, y_preds))\n",
        "print(\"Precision:\", precision_score(y_test, y_preds, average=\"macro\"))\n",
        "print(\"Recall:\", recall_score(y_test, y_preds, average=\"macro\"))\n",
        "print(\"F1 Score:\", f1_score(y_test, y_preds, average=\"macro\"))"
      ],
      "metadata": {
        "id": "ULRW35BWb9dd",
        "colab": {
          "base_uri": "https://localhost:8080/"
        },
        "outputId": "eca568e0-5ca1-4d5f-af6f-b7801f9ca4af"
      },
      "execution_count": 38,
      "outputs": [
        {
          "output_type": "stream",
          "name": "stdout",
          "text": [
            "Accuracy: 0.8064280496712929\n",
            "Precision: 0.8009791067260883\n",
            "Recall: 0.6800603386492784\n",
            "F1 Score: 0.7219811210474019\n"
          ]
        }
      ]
    },
    {
      "cell_type": "code",
      "source": [
        "# obtain and plot confusion matrix\n",
        "cm = confusion_matrix(y_test, y_preds)\n",
        "print(cm)\n",
        "disp = ConfusionMatrixDisplay(cm)\n",
        "disp.plot()"
      ],
      "metadata": {
        "id": "X_ajsmAdisv4",
        "colab": {
          "base_uri": "https://localhost:8080/",
          "height": 523
        },
        "outputId": "eda5727f-95f5-4cac-d69f-5353a31a12dc"
      },
      "execution_count": 39,
      "outputs": [
        {
          "output_type": "stream",
          "name": "stdout",
          "text": [
            "[[ 180  144   38]\n",
            " [  20 1662   88]\n",
            " [  14  226  366]]\n"
          ]
        },
        {
          "output_type": "execute_result",
          "data": {
            "text/plain": [
              "<sklearn.metrics._plot.confusion_matrix.ConfusionMatrixDisplay at 0x79cf14357d90>"
            ]
          },
          "metadata": {},
          "execution_count": 39
        },
        {
          "output_type": "display_data",
          "data": {
            "text/plain": [
              "<Figure size 640x480 with 2 Axes>"
            ],
            "image/png": "[encoded data removed]"
          },
          "metadata": {}
        }
      ]
    },
    {
      "cell_type": "markdown",
      "source": [
        "## Final model outputs"
      ],
      "metadata": {
        "id": "uqur_c-4hmZH"
      }
    },
    {
      "cell_type": "markdown",
      "source": [
        "Now, we will combine all the work we have done to present the final dataframe of outputs."
      ],
      "metadata": {
        "id": "iRvbvVCNzeAu"
      }
    },
    {
      "cell_type": "code",
      "source": [
        "# tidying up the dataframe\n",
        "final_entities = test_data.drop(columns=[\"NER\", \"labels\", \"title\"])\n",
        "test_data_original = test_data_original.reset_index()\n",
        "\n",
        "# merge the predictions with the original article titles\n",
        "final_output_df = pd.merge(test_data_original, final_entities, on=\"index\")\n",
        "final_output_df[\"pred_labels\"] = y_preds"
      ],
      "metadata": {
        "id": "Izj2UM47h2Nd"
      },
      "execution_count": null,
      "outputs": []
    },
    {
      "cell_type": "code",
      "source": [
        "# final_output_df will consist of the original article title, ground truth labels,\n",
        "# predicted entities, and predicted labels\n",
        "final_output_df"
      ],
      "metadata": {
        "colab": {
          "base_uri": "https://localhost:8080/",
          "height": 423
        },
        "id": "66KWg6ivjzDj",
        "outputId": "752d11fc-6962-413f-fd22-54da8209f47d"
      },
      "execution_count": 69,
      "outputs": [
        {
          "output_type": "execute_result",
          "data": {
            "text/plain": [
              "      index                                              title  labels  \\\n",
              "0      3046  $MIME - Mimecast -7.6% after downside Q4 EBITD...       0   \n",
              "1      9421  Platts: 5 Commodity Charts To Watch This Week ...       1   \n",
              "2      8597  Atlantic Storm Poised to Send Europe to New Wi...       1   \n",
              "3      8918   France's Top Female CEO Becomes a Stranded Asset       1   \n",
              "4      9066  Highlight: Carnival CEO Arnold W. Donald discu...       1   \n",
              "...     ...                                                ...     ...   \n",
              "2733   3953  Wetherspoon plans new pubs around Britain, cre...       2   \n",
              "2734   5151  $AKCA (+1.0% pre) Akcea and Ionis $IONS launch...       2   \n",
              "2735  12006                                      took $PLAY #4       1   \n",
              "2736    609  Vision Marine Technologies Expands Electric Bo...       2   \n",
              "2737  13691  Why value stocks surged more than growth stock...       1   \n",
              "\n",
              "                                               Entities  pred_labels  \n",
              "0                                              [EBITDA]            0  \n",
              "1                                    [Platts Commodity]            1  \n",
              "2              [Atlantic Storm, New Wind Power Records]            1  \n",
              "3                                  No Entity Recognised            1  \n",
              "4                                  [Highlight Carnival]            1  \n",
              "...                                                 ...          ...  \n",
              "2733                                      [Wetherspoon]            1  \n",
              "2734                                 [Akcea, Ionis, SA]            2  \n",
              "2735                               No Entity Recognised            1  \n",
              "2736  [Vision Marine Technologiespan, Electric Boat ...            2  \n",
              "2737                               No Entity Recognised            2  \n",
              "\n",
              "[2738 rows x 5 columns]"
            ],
            "text/html": [
              "\n",
              "  <div id=\"df-32bb868f-8b3c-4adc-891d-9ee1b1776f9c\" class=\"colab-df-container\">\n",
              "    <div>\n",
              "<style scoped>\n",
              "    .dataframe tbody tr th:only-of-type {\n",
              "        vertical-align: middle;\n",
              "    }\n",
              "\n",
              "    .dataframe tbody tr th {\n",
              "        vertical-align: top;\n",
              "    }\n",
              "\n",
              "    .dataframe thead th {\n",
              "        text-align: right;\n",
              "    }\n",
              "</style>\n",
              "<table border=\"1\" class=\"dataframe\">\n",
              "  <thead>\n",
              "    <tr style=\"text-align: right;\">\n",
              "      <th></th>\n",
              "      <th>index</th>\n",
              "      <th>title</th>\n",
              "      <th>labels</th>\n",
              "      <th>Entities</th>\n",
              "      <th>pred_labels</th>\n",
              "    </tr>\n",
              "  </thead>\n",
              "  <tbody>\n",
              "    <tr>\n",
              "      <th>0</th>\n",
              "      <td>3046</td>\n",
              "      <td>$MIME - Mimecast -7.6% after downside Q4 EBITD...</td>\n",
              "      <td>0</td>\n",
              "      <td>[EBITDA]</td>\n",
              "      <td>0</td>\n",
              "    </tr>\n",
              "    <tr>\n",
              "      <th>1</th>\n",
              "      <td>9421</td>\n",
              "      <td>Platts: 5 Commodity Charts To Watch This Week ...</td>\n",
              "      <td>1</td>\n",
              "      <td>[Platts Commodity]</td>\n",
              "      <td>1</td>\n",
              "    </tr>\n",
              "    <tr>\n",
              "      <th>2</th>\n",
              "      <td>8597</td>\n",
              "      <td>Atlantic Storm Poised to Send Europe to New Wi...</td>\n",
              "      <td>1</td>\n",
              "      <td>[Atlantic Storm, New Wind Power Records]</td>\n",
              "      <td>1</td>\n",
              "    </tr>\n",
              "    <tr>\n",
              "      <th>3</th>\n",
              "      <td>8918</td>\n",
              "      <td>France's Top Female CEO Becomes a Stranded Asset</td>\n",
              "      <td>1</td>\n",
              "      <td>No Entity Recognised</td>\n",
              "      <td>1</td>\n",
              "    </tr>\n",
              "    <tr>\n",
              "      <th>4</th>\n",
              "      <td>9066</td>\n",
              "      <td>Highlight: Carnival CEO Arnold W. Donald discu...</td>\n",
              "      <td>1</td>\n",
              "      <td>[Highlight Carnival]</td>\n",
              "      <td>1</td>\n",
              "    </tr>\n",
              "    <tr>\n",
              "      <th>...</th>\n",
              "      <td>...</td>\n",
              "      <td>...</td>\n",
              "      <td>...</td>\n",
              "      <td>...</td>\n",
              "      <td>...</td>\n",
              "    </tr>\n",
              "    <tr>\n",
              "      <th>2733</th>\n",
              "      <td>3953</td>\n",
              "      <td>Wetherspoon plans new pubs around Britain, cre...</td>\n",
              "      <td>2</td>\n",
              "      <td>[Wetherspoon]</td>\n",
              "      <td>1</td>\n",
              "    </tr>\n",
              "    <tr>\n",
              "      <th>2734</th>\n",
              "      <td>5151</td>\n",
              "      <td>$AKCA (+1.0% pre) Akcea and Ionis $IONS launch...</td>\n",
              "      <td>2</td>\n",
              "      <td>[Akcea, Ionis, SA]</td>\n",
              "      <td>2</td>\n",
              "    </tr>\n",
              "    <tr>\n",
              "      <th>2735</th>\n",
              "      <td>12006</td>\n",
              "      <td>took $PLAY #4</td>\n",
              "      <td>1</td>\n",
              "      <td>No Entity Recognised</td>\n",
              "      <td>1</td>\n",
              "    </tr>\n",
              "    <tr>\n",
              "      <th>2736</th>\n",
              "      <td>609</td>\n",
              "      <td>Vision Marine Technologies Expands Electric Bo...</td>\n",
              "      <td>2</td>\n",
              "      <td>[Vision Marine Technologiespan, Electric Boat ...</td>\n",
              "      <td>2</td>\n",
              "    </tr>\n",
              "    <tr>\n",
              "      <th>2737</th>\n",
              "      <td>13691</td>\n",
              "      <td>Why value stocks surged more than growth stock...</td>\n",
              "      <td>1</td>\n",
              "      <td>No Entity Recognised</td>\n",
              "      <td>2</td>\n",
              "    </tr>\n",
              "  </tbody>\n",
              "</table>\n",
              "<p>2738 rows × 5 columns</p>\n",
              "</div>\n",
              "    <div class=\"colab-df-buttons\">\n",
              "\n",
              "  <div class=\"colab-df-container\">\n",
              "    <button class=\"colab-df-convert\" onclick=\"convertToInteractive('df-32bb868f-8b3c-4adc-891d-9ee1b1776f9c')\"\n",
              "            title=\"Convert this dataframe to an interactive table.\"\n",
              "            style=\"display:none;\">\n",
              "\n",
              "  <svg xmlns=\"http://www.w3.org/2000/svg\" height=\"24px\" viewBox=\"0 -960 960 960\">\n",
              "    <path d=\"M120-120v-720h720v720H120Zm60-500h600v-160H180v160Zm220 220h160v-160H400v160Zm0 220h160v-160H400v160ZM180-400h160v-160H180v160Zm440 0h160v-160H620v160ZM180-180h160v-160H180v160Zm440 0h160v-160H620v160Z\"/>\n",
              "  </svg>\n",
              "    </button>\n",
              "\n",
              "  <style>\n",
              "    .colab-df-container {\n",
              "      display:flex;\n",
              "      gap: 12px;\n",
              "    }\n",
              "\n",
              "    .colab-df-convert {\n",
              "      background-color: #E8F0FE;\n",
              "      border: none;\n",
              "      border-radius: 50%;\n",
              "      cursor: pointer;\n",
              "      display: none;\n",
              "      fill: #1967D2;\n",
              "      height: 32px;\n",
              "      padding: 0 0 0 0;\n",
              "      width: 32px;\n",
              "    }\n",
              "\n",
              "    .colab-df-convert:hover {\n",
              "      background-color: #E2EBFA;\n",
              "      box-shadow: 0px 1px 2px rgba(60, 64, 67, 0.3), 0px 1px 3px 1px rgba(60, 64, 67, 0.15);\n",
              "      fill: #174EA6;\n",
              "    }\n",
              "\n",
              "    .colab-df-buttons div {\n",
              "      margin-bottom: 4px;\n",
              "    }\n",
              "\n",
              "    [theme=dark] .colab-df-convert {\n",
              "      background-color: #3B4455;\n",
              "      fill: #D2E3FC;\n",
              "    }\n",
              "\n",
              "    [theme=dark] .colab-df-convert:hover {\n",
              "      background-color: #434B5C;\n",
              "      box-shadow: 0px 1px 3px 1px rgba(0, 0, 0, 0.15);\n",
              "      filter: drop-shadow(0px 1px 2px rgba(0, 0, 0, 0.3));\n",
              "      fill: #FFFFFF;\n",
              "    }\n",
              "  </style>\n",
              "\n",
              "    <script>\n",
              "      const buttonEl =\n",
              "        document.querySelector('#df-32bb868f-8b3c-4adc-891d-9ee1b1776f9c button.colab-df-convert');\n",
              "      buttonEl.style.display =\n",
              "        google.colab.kernel.accessAllowed ? 'block' : 'none';\n",
              "\n",
              "      async function convertToInteractive(key) {\n",
              "        const element = document.querySelector('#df-32bb868f-8b3c-4adc-891d-9ee1b1776f9c');\n",
              "        const dataTable =\n",
              "          await google.colab.kernel.invokeFunction('convertToInteractive',\n",
              "                                                    [key], {});\n",
              "        if (!dataTable) return;\n",
              "\n",
              "        const docLinkHtml = 'Like what you see? Visit the ' +\n",
              "          '<a target=\"_blank\" href=https://colab.research.google.com/notebooks/data_table.ipynb>data table notebook</a>'\n",
              "          + ' to learn more about interactive tables.';\n",
              "        element.innerHTML = '';\n",
              "        dataTable['output_type'] = 'display_data';\n",
              "        await google.colab.output.renderOutput(dataTable, element);\n",
              "        const docLink = document.createElement('div');\n",
              "        docLink.innerHTML = docLinkHtml;\n",
              "        element.appendChild(docLink);\n",
              "      }\n",
              "    </script>\n",
              "  </div>\n",
              "\n",
              "\n",
              "<div id=\"df-97e472a3-b44e-4206-8b5f-3c6353bed4a8\">\n",
              "  <button class=\"colab-df-quickchart\" onclick=\"quickchart('df-97e472a3-b44e-4206-8b5f-3c6353bed4a8')\"\n",
              "            title=\"Suggest charts\"\n",
              "            style=\"display:none;\">\n",
              "\n",
              "<svg xmlns=\"http://www.w3.org/2000/svg\" height=\"24px\"viewBox=\"0 0 24 24\"\n",
              "     width=\"24px\">\n",
              "    <g>\n",
              "        <path d=\"M19 3H5c-1.1 0-2 .9-2 2v14c0 1.1.9 2 2 2h14c1.1 0 2-.9 2-2V5c0-1.1-.9-2-2-2zM9 17H7v-7h2v7zm4 0h-2V7h2v10zm4 0h-2v-4h2v4z\"/>\n",
              "    </g>\n",
              "</svg>\n",
              "  </button>\n",
              "\n",
              "<style>\n",
              "  .colab-df-quickchart {\n",
              "      --bg-color: #E8F0FE;\n",
              "      --fill-color: #1967D2;\n",
              "      --hover-bg-color: #E2EBFA;\n",
              "      --hover-fill-color: #174EA6;\n",
              "      --disabled-fill-color: #AAA;\n",
              "      --disabled-bg-color: #DDD;\n",
              "  }\n",
              "\n",
              "  [theme=dark] .colab-df-quickchart {\n",
              "      --bg-color: #3B4455;\n",
              "      --fill-color: #D2E3FC;\n",
              "      --hover-bg-color: #434B5C;\n",
              "      --hover-fill-color: #FFFFFF;\n",
              "      --disabled-bg-color: #3B4455;\n",
              "      --disabled-fill-color: #666;\n",
              "  }\n",
              "\n",
              "  .colab-df-quickchart {\n",
              "    background-color: var(--bg-color);\n",
              "    border: none;\n",
              "    border-radius: 50%;\n",
              "    cursor: pointer;\n",
              "    display: none;\n",
              "    fill: var(--fill-color);\n",
              "    height: 32px;\n",
              "    padding: 0;\n",
              "    width: 32px;\n",
              "  }\n",
              "\n",
              "  .colab-df-quickchart:hover {\n",
              "    background-color: var(--hover-bg-color);\n",
              "    box-shadow: 0 1px 2px rgba(60, 64, 67, 0.3), 0 1px 3px 1px rgba(60, 64, 67, 0.15);\n",
              "    fill: var(--button-hover-fill-color);\n",
              "  }\n",
              "\n",
              "  .colab-df-quickchart-complete:disabled,\n",
              "  .colab-df-quickchart-complete:disabled:hover {\n",
              "    background-color: var(--disabled-bg-color);\n",
              "    fill: var(--disabled-fill-color);\n",
              "    box-shadow: none;\n",
              "  }\n",
              "\n",
              "  .colab-df-spinner {\n",
              "    border: 2px solid var(--fill-color);\n",
              "    border-color: transparent;\n",
              "    border-bottom-color: var(--fill-color);\n",
              "    animation:\n",
              "      spin 1s steps(1) infinite;\n",
              "  }\n",
              "\n",
              "  @keyframes spin {\n",
              "    0% {\n",
              "      border-color: transparent;\n",
              "      border-bottom-color: var(--fill-color);\n",
              "      border-left-color: var(--fill-color);\n",
              "    }\n",
              "    20% {\n",
              "      border-color: transparent;\n",
              "      border-left-color: var(--fill-color);\n",
              "      border-top-color: var(--fill-color);\n",
              "    }\n",
              "    30% {\n",
              "      border-color: transparent;\n",
              "      border-left-color: var(--fill-color);\n",
              "      border-top-color: var(--fill-color);\n",
              "      border-right-color: var(--fill-color);\n",
              "    }\n",
              "    40% {\n",
              "      border-color: transparent;\n",
              "      border-right-color: var(--fill-color);\n",
              "      border-top-color: var(--fill-color);\n",
              "    }\n",
              "    60% {\n",
              "      border-color: transparent;\n",
              "      border-right-color: var(--fill-color);\n",
              "    }\n",
              "    80% {\n",
              "      border-color: transparent;\n",
              "      border-right-color: var(--fill-color);\n",
              "      border-bottom-color: var(--fill-color);\n",
              "    }\n",
              "    90% {\n",
              "      border-color: transparent;\n",
              "      border-bottom-color: var(--fill-color);\n",
              "    }\n",
              "  }\n",
              "</style>\n",
              "\n",
              "  <script>\n",
              "    async function quickchart(key) {\n",
              "      const quickchartButtonEl =\n",
              "        document.querySelector('#' + key + ' button');\n",
              "      quickchartButtonEl.disabled = true;  // To prevent multiple clicks.\n",
              "      quickchartButtonEl.classList.add('colab-df-spinner');\n",
              "      try {\n",
              "        const charts = await google.colab.kernel.invokeFunction(\n",
              "            'suggestCharts', [key], {});\n",
              "      } catch (error) {\n",
              "        console.error('Error during call to suggestCharts:', error);\n",
              "      }\n",
              "      quickchartButtonEl.classList.remove('colab-df-spinner');\n",
              "      quickchartButtonEl.classList.add('colab-df-quickchart-complete');\n",
              "    }\n",
              "    (() => {\n",
              "      let quickchartButtonEl =\n",
              "        document.querySelector('#df-97e472a3-b44e-4206-8b5f-3c6353bed4a8 button');\n",
              "      quickchartButtonEl.style.display =\n",
              "        google.colab.kernel.accessAllowed ? 'block' : 'none';\n",
              "    })();\n",
              "  </script>\n",
              "</div>\n",
              "    </div>\n",
              "  </div>\n"
            ]
          },
          "metadata": {},
          "execution_count": 69
        }
      ]
    },
    {
      "cell_type": "markdown",
      "source": [
        "## Error analysis"
      ],
      "metadata": {
        "id": "pS9jMR1QBIYA"
      }
    },
    {
      "cell_type": "code",
      "source": [
        "error_analysis_df = final_output_df.drop(columns=[\"index\", \"Entities\"])\n",
        "error_analysis_df = error_analysis_df.iloc[np.where(y_preds != y_test)[0]]"
      ],
      "metadata": {
        "id": "XYG9enymk4NG"
      },
      "execution_count": 74,
      "outputs": []
    },
    {
      "cell_type": "code",
      "source": [
        "error_analysis_df"
      ],
      "metadata": {
        "colab": {
          "base_uri": "https://localhost:8080/",
          "height": 423
        },
        "id": "Uqim0V6ilNMf",
        "outputId": "26174826-9939-413f-dab3-ee99ed6272ca"
      },
      "execution_count": 78,
      "outputs": [
        {
          "output_type": "execute_result",
          "data": {
            "text/plain": [
              "                                                  title  labels  pred_labels\n",
              "6     $TOL - Now Is The Time To Build A Position In ...       2            1\n",
              "8     La Jolla Pharmaceutical to reassess continued ...       0            1\n",
              "9     Just Energy Announces Granting of Reverse Vest...       2            1\n",
              "10    California Intensifies Fossil Fuel Fight With ...       0            1\n",
              "11    $KOS - Kosmos inks Greater Tortue LNG supply d...       2            1\n",
              "...                                                 ...     ...          ...\n",
              "2713  Labrador Uranium Completes 2022 Field Season –...       2            1\n",
              "2714  $WORK - Slack -5% after statement on IBM https...       0            2\n",
              "2727  Egypt's inflation inched higher for a third st...       0            1\n",
              "2733  Wetherspoon plans new pubs around Britain, cre...       2            1\n",
              "2737  Why value stocks surged more than growth stock...       1            2\n",
              "\n",
              "[530 rows x 3 columns]"
            ],
            "text/html": [
              "\n",
              "  <div id=\"df-3e5d8e8f-767e-41f6-8204-135f28d0a49c\" class=\"colab-df-container\">\n",
              "    <div>\n",
              "<style scoped>\n",
              "    .dataframe tbody tr th:only-of-type {\n",
              "        vertical-align: middle;\n",
              "    }\n",
              "\n",
              "    .dataframe tbody tr th {\n",
              "        vertical-align: top;\n",
              "    }\n",
              "\n",
              "    .dataframe thead th {\n",
              "        text-align: right;\n",
              "    }\n",
              "</style>\n",
              "<table border=\"1\" class=\"dataframe\">\n",
              "  <thead>\n",
              "    <tr style=\"text-align: right;\">\n",
              "      <th></th>\n",
              "      <th>title</th>\n",
              "      <th>labels</th>\n",
              "      <th>pred_labels</th>\n",
              "    </tr>\n",
              "  </thead>\n",
              "  <tbody>\n",
              "    <tr>\n",
              "      <th>6</th>\n",
              "      <td>$TOL - Now Is The Time To Build A Position In ...</td>\n",
              "      <td>2</td>\n",
              "      <td>1</td>\n",
              "    </tr>\n",
              "    <tr>\n",
              "      <th>8</th>\n",
              "      <td>La Jolla Pharmaceutical to reassess continued ...</td>\n",
              "      <td>0</td>\n",
              "      <td>1</td>\n",
              "    </tr>\n",
              "    <tr>\n",
              "      <th>9</th>\n",
              "      <td>Just Energy Announces Granting of Reverse Vest...</td>\n",
              "      <td>2</td>\n",
              "      <td>1</td>\n",
              "    </tr>\n",
              "    <tr>\n",
              "      <th>10</th>\n",
              "      <td>California Intensifies Fossil Fuel Fight With ...</td>\n",
              "      <td>0</td>\n",
              "      <td>1</td>\n",
              "    </tr>\n",
              "    <tr>\n",
              "      <th>11</th>\n",
              "      <td>$KOS - Kosmos inks Greater Tortue LNG supply d...</td>\n",
              "      <td>2</td>\n",
              "      <td>1</td>\n",
              "    </tr>\n",
              "    <tr>\n",
              "      <th>...</th>\n",
              "      <td>...</td>\n",
              "      <td>...</td>\n",
              "      <td>...</td>\n",
              "    </tr>\n",
              "    <tr>\n",
              "      <th>2713</th>\n",
              "      <td>Labrador Uranium Completes 2022 Field Season –...</td>\n",
              "      <td>2</td>\n",
              "      <td>1</td>\n",
              "    </tr>\n",
              "    <tr>\n",
              "      <th>2714</th>\n",
              "      <td>$WORK - Slack -5% after statement on IBM https...</td>\n",
              "      <td>0</td>\n",
              "      <td>2</td>\n",
              "    </tr>\n",
              "    <tr>\n",
              "      <th>2727</th>\n",
              "      <td>Egypt's inflation inched higher for a third st...</td>\n",
              "      <td>0</td>\n",
              "      <td>1</td>\n",
              "    </tr>\n",
              "    <tr>\n",
              "      <th>2733</th>\n",
              "      <td>Wetherspoon plans new pubs around Britain, cre...</td>\n",
              "      <td>2</td>\n",
              "      <td>1</td>\n",
              "    </tr>\n",
              "    <tr>\n",
              "      <th>2737</th>\n",
              "      <td>Why value stocks surged more than growth stock...</td>\n",
              "      <td>1</td>\n",
              "      <td>2</td>\n",
              "    </tr>\n",
              "  </tbody>\n",
              "</table>\n",
              "<p>530 rows × 3 columns</p>\n",
              "</div>\n",
              "    <div class=\"colab-df-buttons\">\n",
              "\n",
              "  <div class=\"colab-df-container\">\n",
              "    <button class=\"colab-df-convert\" onclick=\"convertToInteractive('df-3e5d8e8f-767e-41f6-8204-135f28d0a49c')\"\n",
              "            title=\"Convert this dataframe to an interactive table.\"\n",
              "            style=\"display:none;\">\n",
              "\n",
              "  <svg xmlns=\"http://www.w3.org/2000/svg\" height=\"24px\" viewBox=\"0 -960 960 960\">\n",
              "    <path d=\"M120-120v-720h720v720H120Zm60-500h600v-160H180v160Zm220 220h160v-160H400v160Zm0 220h160v-160H400v160ZM180-400h160v-160H180v160Zm440 0h160v-160H620v160ZM180-180h160v-160H180v160Zm440 0h160v-160H620v160Z\"/>\n",
              "  </svg>\n",
              "    </button>\n",
              "\n",
              "  <style>\n",
              "    .colab-df-container {\n",
              "      display:flex;\n",
              "      gap: 12px;\n",
              "    }\n",
              "\n",
              "    .colab-df-convert {\n",
              "      background-color: #E8F0FE;\n",
              "      border: none;\n",
              "      border-radius: 50%;\n",
              "      cursor: pointer;\n",
              "      display: none;\n",
              "      fill: #1967D2;\n",
              "      height: 32px;\n",
              "      padding: 0 0 0 0;\n",
              "      width: 32px;\n",
              "    }\n",
              "\n",
              "    .colab-df-convert:hover {\n",
              "      background-color: #E2EBFA;\n",
              "      box-shadow: 0px 1px 2px rgba(60, 64, 67, 0.3), 0px 1px 3px 1px rgba(60, 64, 67, 0.15);\n",
              "      fill: #174EA6;\n",
              "    }\n",
              "\n",
              "    .colab-df-buttons div {\n",
              "      margin-bottom: 4px;\n",
              "    }\n",
              "\n",
              "    [theme=dark] .colab-df-convert {\n",
              "      background-color: #3B4455;\n",
              "      fill: #D2E3FC;\n",
              "    }\n",
              "\n",
              "    [theme=dark] .colab-df-convert:hover {\n",
              "      background-color: #434B5C;\n",
              "      box-shadow: 0px 1px 3px 1px rgba(0, 0, 0, 0.15);\n",
              "      filter: drop-shadow(0px 1px 2px rgba(0, 0, 0, 0.3));\n",
              "      fill: #FFFFFF;\n",
              "    }\n",
              "  </style>\n",
              "\n",
              "    <script>\n",
              "      const buttonEl =\n",
              "        document.querySelector('#df-3e5d8e8f-767e-41f6-8204-135f28d0a49c button.colab-df-convert');\n",
              "      buttonEl.style.display =\n",
              "        google.colab.kernel.accessAllowed ? 'block' : 'none';\n",
              "\n",
              "      async function convertToInteractive(key) {\n",
              "        const element = document.querySelector('#df-3e5d8e8f-767e-41f6-8204-135f28d0a49c');\n",
              "        const dataTable =\n",
              "          await google.colab.kernel.invokeFunction('convertToInteractive',\n",
              "                                                    [key], {});\n",
              "        if (!dataTable) return;\n",
              "\n",
              "        const docLinkHtml = 'Like what you see? Visit the ' +\n",
              "          '<a target=\"_blank\" href=https://colab.research.google.com/notebooks/data_table.ipynb>data table notebook</a>'\n",
              "          + ' to learn more about interactive tables.';\n",
              "        element.innerHTML = '';\n",
              "        dataTable['output_type'] = 'display_data';\n",
              "        await google.colab.output.renderOutput(dataTable, element);\n",
              "        const docLink = document.createElement('div');\n",
              "        docLink.innerHTML = docLinkHtml;\n",
              "        element.appendChild(docLink);\n",
              "      }\n",
              "    </script>\n",
              "  </div>\n",
              "\n",
              "\n",
              "<div id=\"df-b2488268-e51d-4533-a01d-910721419b36\">\n",
              "  <button class=\"colab-df-quickchart\" onclick=\"quickchart('df-b2488268-e51d-4533-a01d-910721419b36')\"\n",
              "            title=\"Suggest charts\"\n",
              "            style=\"display:none;\">\n",
              "\n",
              "<svg xmlns=\"http://www.w3.org/2000/svg\" height=\"24px\"viewBox=\"0 0 24 24\"\n",
              "     width=\"24px\">\n",
              "    <g>\n",
              "        <path d=\"M19 3H5c-1.1 0-2 .9-2 2v14c0 1.1.9 2 2 2h14c1.1 0 2-.9 2-2V5c0-1.1-.9-2-2-2zM9 17H7v-7h2v7zm4 0h-2V7h2v10zm4 0h-2v-4h2v4z\"/>\n",
              "    </g>\n",
              "</svg>\n",
              "  </button>\n",
              "\n",
              "<style>\n",
              "  .colab-df-quickchart {\n",
              "      --bg-color: #E8F0FE;\n",
              "      --fill-color: #1967D2;\n",
              "      --hover-bg-color: #E2EBFA;\n",
              "      --hover-fill-color: #174EA6;\n",
              "      --disabled-fill-color: #AAA;\n",
              "      --disabled-bg-color: #DDD;\n",
              "  }\n",
              "\n",
              "  [theme=dark] .colab-df-quickchart {\n",
              "      --bg-color: #3B4455;\n",
              "      --fill-color: #D2E3FC;\n",
              "      --hover-bg-color: #434B5C;\n",
              "      --hover-fill-color: #FFFFFF;\n",
              "      --disabled-bg-color: #3B4455;\n",
              "      --disabled-fill-color: #666;\n",
              "  }\n",
              "\n",
              "  .colab-df-quickchart {\n",
              "    background-color: var(--bg-color);\n",
              "    border: none;\n",
              "    border-radius: 50%;\n",
              "    cursor: pointer;\n",
              "    display: none;\n",
              "    fill: var(--fill-color);\n",
              "    height: 32px;\n",
              "    padding: 0;\n",
              "    width: 32px;\n",
              "  }\n",
              "\n",
              "  .colab-df-quickchart:hover {\n",
              "    background-color: var(--hover-bg-color);\n",
              "    box-shadow: 0 1px 2px rgba(60, 64, 67, 0.3), 0 1px 3px 1px rgba(60, 64, 67, 0.15);\n",
              "    fill: var(--button-hover-fill-color);\n",
              "  }\n",
              "\n",
              "  .colab-df-quickchart-complete:disabled,\n",
              "  .colab-df-quickchart-complete:disabled:hover {\n",
              "    background-color: var(--disabled-bg-color);\n",
              "    fill: var(--disabled-fill-color);\n",
              "    box-shadow: none;\n",
              "  }\n",
              "\n",
              "  .colab-df-spinner {\n",
              "    border: 2px solid var(--fill-color);\n",
              "    border-color: transparent;\n",
              "    border-bottom-color: var(--fill-color);\n",
              "    animation:\n",
              "      spin 1s steps(1) infinite;\n",
              "  }\n",
              "\n",
              "  @keyframes spin {\n",
              "    0% {\n",
              "      border-color: transparent;\n",
              "      border-bottom-color: var(--fill-color);\n",
              "      border-left-color: var(--fill-color);\n",
              "    }\n",
              "    20% {\n",
              "      border-color: transparent;\n",
              "      border-left-color: var(--fill-color);\n",
              "      border-top-color: var(--fill-color);\n",
              "    }\n",
              "    30% {\n",
              "      border-color: transparent;\n",
              "      border-left-color: var(--fill-color);\n",
              "      border-top-color: var(--fill-color);\n",
              "      border-right-color: var(--fill-color);\n",
              "    }\n",
              "    40% {\n",
              "      border-color: transparent;\n",
              "      border-right-color: var(--fill-color);\n",
              "      border-top-color: var(--fill-color);\n",
              "    }\n",
              "    60% {\n",
              "      border-color: transparent;\n",
              "      border-right-color: var(--fill-color);\n",
              "    }\n",
              "    80% {\n",
              "      border-color: transparent;\n",
              "      border-right-color: var(--fill-color);\n",
              "      border-bottom-color: var(--fill-color);\n",
              "    }\n",
              "    90% {\n",
              "      border-color: transparent;\n",
              "      border-bottom-color: var(--fill-color);\n",
              "    }\n",
              "  }\n",
              "</style>\n",
              "\n",
              "  <script>\n",
              "    async function quickchart(key) {\n",
              "      const quickchartButtonEl =\n",
              "        document.querySelector('#' + key + ' button');\n",
              "      quickchartButtonEl.disabled = true;  // To prevent multiple clicks.\n",
              "      quickchartButtonEl.classList.add('colab-df-spinner');\n",
              "      try {\n",
              "        const charts = await google.colab.kernel.invokeFunction(\n",
              "            'suggestCharts', [key], {});\n",
              "      } catch (error) {\n",
              "        console.error('Error during call to suggestCharts:', error);\n",
              "      }\n",
              "      quickchartButtonEl.classList.remove('colab-df-spinner');\n",
              "      quickchartButtonEl.classList.add('colab-df-quickchart-complete');\n",
              "    }\n",
              "    (() => {\n",
              "      let quickchartButtonEl =\n",
              "        document.querySelector('#df-b2488268-e51d-4533-a01d-910721419b36 button');\n",
              "      quickchartButtonEl.style.display =\n",
              "        google.colab.kernel.accessAllowed ? 'block' : 'none';\n",
              "    })();\n",
              "  </script>\n",
              "</div>\n",
              "    </div>\n",
              "  </div>\n"
            ]
          },
          "metadata": {},
          "execution_count": 78
        }
      ]
    },
    {
      "cell_type": "code",
      "source": [
        "# error_analysis_df.to_csv(\"/content/gdrive/My Drive/BT4222/Simple Models/error_df.csv\")"
      ],
      "metadata": {
        "id": "FhWZcZ8o0YhR"
      },
      "execution_count": 111,
      "outputs": []
    },
    {
      "cell_type": "code",
      "source": [
        "print(\"Total no. of negative articles:\", len(np.where(final_output_df[\"labels\"] == 0)[0]))\n",
        "print(\"Total no. of positive articles:\", len(np.where(final_output_df[\"labels\"] == 1)[0]))\n",
        "print(\"Total no. of neutral articles:\", len(np.where(final_output_df[\"labels\"] == 2)[0]))"
      ],
      "metadata": {
        "colab": {
          "base_uri": "https://localhost:8080/"
        },
        "id": "5jSli-F9pq8s",
        "outputId": "e313c418-6f06-4de4-a404-8a4b6751a449"
      },
      "execution_count": 104,
      "outputs": [
        {
          "output_type": "stream",
          "name": "stdout",
          "text": [
            "Total no. of negative articles: 362\n",
            "Total no. of positive articles: 1770\n",
            "Total no. of neutral articles: 606\n"
          ]
        }
      ]
    },
    {
      "cell_type": "code",
      "source": [
        "print(\"Total no. of negative articles predicted:\", len(np.where(final_output_df[\"pred_labels\"] == 0)[0]))\n",
        "print(\"Total no. of positive articles predicted:\", len(np.where(final_output_df[\"pred_labels\"] == 1)[0]))\n",
        "print(\"Total no. of neutral articles predicted:\", len(np.where(final_output_df[\"pred_labels\"] == 2)[0]))"
      ],
      "metadata": {
        "colab": {
          "base_uri": "https://localhost:8080/"
        },
        "id": "z2cxkW6P0A6g",
        "outputId": "348095a5-1719-4897-a456-3a3e5763a747"
      },
      "execution_count": 110,
      "outputs": [
        {
          "output_type": "stream",
          "name": "stdout",
          "text": [
            "Total no. of negative articles predicted: 214\n",
            "Total no. of positive articles predicted: 2032\n",
            "Total no. of neutral articles predicted: 492\n"
          ]
        }
      ]
    }
  ]
}